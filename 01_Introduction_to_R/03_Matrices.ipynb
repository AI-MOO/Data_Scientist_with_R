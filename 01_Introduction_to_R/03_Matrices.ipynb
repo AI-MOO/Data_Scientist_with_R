{
 "cells": [
  {
   "cell_type": "markdown",
   "metadata": {},
   "source": [
    "# Section 03: Matrices\n",
    "### `01-What's a matrix?` \n",
    "\n",
    "In R, a matrix is a collection of elements of the same data type (numeric, character, or logical) arranged into a fixed number of rows and columns. Since you are only working with rows and columns, a matrix is called two-dimensional.\n",
    "\n",
    "You can construct a matrix in R with the matrix() function. Consider the following example:\n",
    "\n",
    "`matrix(1:9, byrow = TRUE, nrow = 3)`\n",
    "\n",
    "In the matrix() function:\n",
    "\n",
    "- The first argument is the collection of elements that R will arrange into the rows and columns of the matrix. Here, we use 1:9 which is a shortcut for c(1, 2, 3, 4, 5, 6, 7, 8, 9).\n",
    "- The argument byrow indicates that the matrix is filled by the rows. If we want the matrix to be filled by the columns, we just place byrow = FALSE.\n",
    "- The third argument nrow indicates that the matrix should have three rows.\n",
    "\n",
    "\n",
    "`Coding:` \n",
    "\n",
    "- Construct a matrix with 3 rows containing the numbers 1 up to 9, filled row-wise.\n",
    "\n",
    "\n",
    "\n"
   ]
  },
  {
   "cell_type": "code",
   "execution_count": 24,
   "metadata": {
    "vscode": {
     "languageId": "r"
    }
   },
   "outputs": [
    {
     "data": {
      "text/html": [
       "<table class=\"dataframe\">\n",
       "<caption>A matrix: 3 × 3 of type int</caption>\n",
       "<tbody>\n",
       "\t<tr><td>1</td><td>2</td><td>3</td></tr>\n",
       "\t<tr><td>4</td><td>5</td><td>6</td></tr>\n",
       "\t<tr><td>7</td><td>8</td><td>9</td></tr>\n",
       "</tbody>\n",
       "</table>\n"
      ],
      "text/latex": [
       "A matrix: 3 × 3 of type int\n",
       "\\begin{tabular}{lll}\n",
       "\t 1 & 2 & 3\\\\\n",
       "\t 4 & 5 & 6\\\\\n",
       "\t 7 & 8 & 9\\\\\n",
       "\\end{tabular}\n"
      ],
      "text/markdown": [
       "\n",
       "A matrix: 3 × 3 of type int\n",
       "\n",
       "| 1 | 2 | 3 |\n",
       "| 4 | 5 | 6 |\n",
       "| 7 | 8 | 9 |\n",
       "\n"
      ],
      "text/plain": [
       "     [,1] [,2] [,3]\n",
       "[1,] 1    2    3   \n",
       "[2,] 4    5    6   \n",
       "[3,] 7    8    9   "
      ]
     },
     "metadata": {},
     "output_type": "display_data"
    }
   ],
   "source": [
    "matrix(1:9, byrow = TRUE, nrow = 3)"
   ]
  },
  {
   "cell_type": "code",
   "execution_count": 25,
   "metadata": {
    "vscode": {
     "languageId": "r"
    }
   },
   "outputs": [
    {
     "data": {
      "text/html": [
       "<table class=\"dataframe\">\n",
       "<caption>A matrix: 3 × 3 of type int</caption>\n",
       "<tbody>\n",
       "\t<tr><td>1</td><td>4</td><td>7</td></tr>\n",
       "\t<tr><td>2</td><td>5</td><td>8</td></tr>\n",
       "\t<tr><td>3</td><td>6</td><td>9</td></tr>\n",
       "</tbody>\n",
       "</table>\n"
      ],
      "text/latex": [
       "A matrix: 3 × 3 of type int\n",
       "\\begin{tabular}{lll}\n",
       "\t 1 & 4 & 7\\\\\n",
       "\t 2 & 5 & 8\\\\\n",
       "\t 3 & 6 & 9\\\\\n",
       "\\end{tabular}\n"
      ],
      "text/markdown": [
       "\n",
       "A matrix: 3 × 3 of type int\n",
       "\n",
       "| 1 | 4 | 7 |\n",
       "| 2 | 5 | 8 |\n",
       "| 3 | 6 | 9 |\n",
       "\n"
      ],
      "text/plain": [
       "     [,1] [,2] [,3]\n",
       "[1,] 1    4    7   \n",
       "[2,] 2    5    8   \n",
       "[3,] 3    6    9   "
      ]
     },
     "metadata": {},
     "output_type": "display_data"
    }
   ],
   "source": [
    "matrix(1:9, byrow = FALSE, nrow = 3)"
   ]
  },
  {
   "cell_type": "markdown",
   "metadata": {},
   "source": [
    "### `02-Analyze matrices, you shall`\n",
    "- Use `c(new_hope, empire_strikes, return_jedi)` to combine the three vectors into one vector. Call this vector `box_office`.\n",
    "- Construct a matrix with 3 rows, where each row represents a movie. Use the `matrix()` function to do this. The first argument is the vector `box_office`, containing all box office figures. Next, you'll have to specify `nrow = 3` and `byrow = TRUE`. Name the resulting matrix `star_wars_matrix`."
   ]
  },
  {
   "cell_type": "code",
   "execution_count": 26,
   "metadata": {
    "vscode": {
     "languageId": "r"
    }
   },
   "outputs": [
    {
     "data": {
      "text/html": [
       "<table class=\"dataframe\">\n",
       "<caption>A matrix: 3 × 2 of type dbl</caption>\n",
       "<tbody>\n",
       "\t<tr><td>460.998</td><td>314.4</td></tr>\n",
       "\t<tr><td>290.475</td><td>247.9</td></tr>\n",
       "\t<tr><td>309.306</td><td>165.8</td></tr>\n",
       "</tbody>\n",
       "</table>\n"
      ],
      "text/latex": [
       "A matrix: 3 × 2 of type dbl\n",
       "\\begin{tabular}{ll}\n",
       "\t 460.998 & 314.4\\\\\n",
       "\t 290.475 & 247.9\\\\\n",
       "\t 309.306 & 165.8\\\\\n",
       "\\end{tabular}\n"
      ],
      "text/markdown": [
       "\n",
       "A matrix: 3 × 2 of type dbl\n",
       "\n",
       "| 460.998 | 314.4 |\n",
       "| 290.475 | 247.9 |\n",
       "| 309.306 | 165.8 |\n",
       "\n"
      ],
      "text/plain": [
       "     [,1]    [,2] \n",
       "[1,] 460.998 314.4\n",
       "[2,] 290.475 247.9\n",
       "[3,] 309.306 165.8"
      ]
     },
     "metadata": {},
     "output_type": "display_data"
    }
   ],
   "source": [
    "# Box office Star Wars (in millions!)\n",
    "new_hope <- c(460.998, 314.4)\n",
    "empire_strikes <- c(290.475, 247.900)\n",
    "return_jedi <- c(309.306, 165.8)\n",
    "\n",
    "# Create box_office\n",
    "box_office <- c(new_hope, empire_strikes, return_jedi)\n",
    "\n",
    "# Construct star_wars_matrix\n",
    "star_wars_matrix <- matrix(box_office, byrow=TRUE, nrow = 3)\n",
    "star_wars_matrix"
   ]
  },
  {
   "cell_type": "markdown",
   "metadata": {},
   "source": [
    "### `03-Naming a matrix`\n",
    "* Use `colnames()` to name the columns of `star_wars_matrix` with the `region` vector.\n",
    "* Use `rownames()` to name the rows of `star_wars_matrix` with the `titles` vector.\n",
    "* Print out `star_wars_matrix` to see the result of your work.\n"
   ]
  },
  {
   "cell_type": "code",
   "execution_count": 27,
   "metadata": {
    "vscode": {
     "languageId": "r"
    }
   },
   "outputs": [
    {
     "data": {
      "text/html": [
       "<table class=\"dataframe\">\n",
       "<caption>A matrix: 3 × 2 of type dbl</caption>\n",
       "<thead>\n",
       "\t<tr><th></th><th scope=col>US</th><th scope=col>non-US</th></tr>\n",
       "</thead>\n",
       "<tbody>\n",
       "\t<tr><th scope=row>A New Hope</th><td>460.998</td><td>314.4</td></tr>\n",
       "\t<tr><th scope=row>The Empire Strikes Back</th><td>290.475</td><td>247.9</td></tr>\n",
       "\t<tr><th scope=row>Return of the Jedi</th><td>309.306</td><td>165.8</td></tr>\n",
       "</tbody>\n",
       "</table>\n"
      ],
      "text/latex": [
       "A matrix: 3 × 2 of type dbl\n",
       "\\begin{tabular}{r|ll}\n",
       "  & US & non-US\\\\\n",
       "\\hline\n",
       "\tA New Hope & 460.998 & 314.4\\\\\n",
       "\tThe Empire Strikes Back & 290.475 & 247.9\\\\\n",
       "\tReturn of the Jedi & 309.306 & 165.8\\\\\n",
       "\\end{tabular}\n"
      ],
      "text/markdown": [
       "\n",
       "A matrix: 3 × 2 of type dbl\n",
       "\n",
       "| <!--/--> | US | non-US |\n",
       "|---|---|---|\n",
       "| A New Hope | 460.998 | 314.4 |\n",
       "| The Empire Strikes Back | 290.475 | 247.9 |\n",
       "| Return of the Jedi | 309.306 | 165.8 |\n",
       "\n"
      ],
      "text/plain": [
       "                        US      non-US\n",
       "A New Hope              460.998 314.4 \n",
       "The Empire Strikes Back 290.475 247.9 \n",
       "Return of the Jedi      309.306 165.8 "
      ]
     },
     "metadata": {},
     "output_type": "display_data"
    }
   ],
   "source": [
    "# Box office Star Wars (in millions!)\n",
    "new_hope <- c(460.998, 314.4)\n",
    "empire_strikes <- c(290.475, 247.900)\n",
    "return_jedi <- c(309.306, 165.8)\n",
    "\n",
    "# Construct matrix\n",
    "star_wars_matrix <- matrix(c(new_hope, empire_strikes, return_jedi), nrow = 3, byrow = TRUE)\n",
    "\n",
    "# Vectors region and titles, used for naming\n",
    "region <- c(\"US\", \"non-US\")\n",
    "titles <- c(\"A New Hope\", \"The Empire Strikes Back\", \"Return of the Jedi\")\n",
    "\n",
    "# Name the columns with region\n",
    "colnames(star_wars_matrix) <- region \n",
    "\n",
    "# Name the rows with titles\n",
    "rownames(star_wars_matrix) <- titles\n",
    "\n",
    "# Print out star_wars_matrix\n",
    "star_wars_matrix"
   ]
  },
  {
   "cell_type": "markdown",
   "metadata": {},
   "source": [
    "### `04-Calculating the worldwide box office`\n",
    "- Calculate the worldwide box office figures for the three movies and put these in the vector named worldwide_vector."
   ]
  },
  {
   "cell_type": "code",
   "execution_count": 28,
   "metadata": {
    "vscode": {
     "languageId": "r"
    }
   },
   "outputs": [
    {
     "data": {
      "text/html": [
       "<style>\n",
       ".dl-inline {width: auto; margin:0; padding: 0}\n",
       ".dl-inline>dt, .dl-inline>dd {float: none; width: auto; display: inline-block}\n",
       ".dl-inline>dt::after {content: \":\\0020\"; padding-right: .5ex}\n",
       ".dl-inline>dt:not(:first-of-type) {padding-left: .5ex}\n",
       "</style><dl class=dl-inline><dt>A New Hope</dt><dd>775.398</dd><dt>The Empire Strikes Back</dt><dd>538.375</dd><dt>Return of the Jedi</dt><dd>475.106</dd></dl>\n"
      ],
      "text/latex": [
       "\\begin{description*}\n",
       "\\item[A New Hope] 775.398\n",
       "\\item[The Empire Strikes Back] 538.375\n",
       "\\item[Return of the Jedi] 475.106\n",
       "\\end{description*}\n"
      ],
      "text/markdown": [
       "A New Hope\n",
       ":   775.398The Empire Strikes Back\n",
       ":   538.375Return of the Jedi\n",
       ":   475.106\n",
       "\n"
      ],
      "text/plain": [
       "             A New Hope The Empire Strikes Back      Return of the Jedi \n",
       "                775.398                 538.375                 475.106 "
      ]
     },
     "metadata": {},
     "output_type": "display_data"
    }
   ],
   "source": [
    "# Construct star_wars_matrix\n",
    "box_office <- c(460.998, 314.4, 290.475, 247.900, 309.306, 165.8)\n",
    "region <- c(\"US\", \"non-US\")\n",
    "titles <- c(\"A New Hope\", \n",
    "                 \"The Empire Strikes Back\", \n",
    "                 \"Return of the Jedi\")\n",
    "               \n",
    "star_wars_matrix <- matrix(box_office, \n",
    "                      nrow = 3, byrow = TRUE,\n",
    "                      dimnames = list(titles, region))\n",
    "\n",
    "# Calculate worldwide box office figures\n",
    "worldwide_vector <- rowSums(star_wars_matrix)\n",
    "worldwide_vector"
   ]
  },
  {
   "cell_type": "markdown",
   "metadata": {},
   "source": [
    "### `05-Adding a column for the Worldwide box office`\n",
    "In the previous exercise you calculated the vector that contained the worldwide box office receipt for each of the three Star Wars movies. However, this vector is not yet part of star_wars_matrix.\n",
    "\n",
    "You can add a column or multiple columns to a matrix with the cbind() function, which merges matrices and/or vectors together by column. For example:\n",
    "\n",
    "`big_matrix <- cbind(matrix1, matrix2, vector1 ...)` \n",
    "\n",
    "\n",
    "* Add `worldwide_vector` as a new column to the `star_wars_matrix` and assign the result to `all_wars_matrix`. Use the `cbind()` function.\n",
    "\n",
    "\n"
   ]
  },
  {
   "cell_type": "code",
   "execution_count": 29,
   "metadata": {
    "vscode": {
     "languageId": "r"
    }
   },
   "outputs": [
    {
     "data": {
      "text/html": [
       "<table class=\"dataframe\">\n",
       "<caption>A matrix: 3 × 3 of type dbl</caption>\n",
       "<thead>\n",
       "\t<tr><th></th><th scope=col>US</th><th scope=col>non-US</th><th scope=col>worldwide_vector</th></tr>\n",
       "</thead>\n",
       "<tbody>\n",
       "\t<tr><th scope=row>A New Hope</th><td>460.998</td><td>314.4</td><td>775.398</td></tr>\n",
       "\t<tr><th scope=row>The Empire Strikes Back</th><td>290.475</td><td>247.9</td><td>538.375</td></tr>\n",
       "\t<tr><th scope=row>Return of the Jedi</th><td>309.306</td><td>165.8</td><td>475.106</td></tr>\n",
       "</tbody>\n",
       "</table>\n"
      ],
      "text/latex": [
       "A matrix: 3 × 3 of type dbl\n",
       "\\begin{tabular}{r|lll}\n",
       "  & US & non-US & worldwide\\_vector\\\\\n",
       "\\hline\n",
       "\tA New Hope & 460.998 & 314.4 & 775.398\\\\\n",
       "\tThe Empire Strikes Back & 290.475 & 247.9 & 538.375\\\\\n",
       "\tReturn of the Jedi & 309.306 & 165.8 & 475.106\\\\\n",
       "\\end{tabular}\n"
      ],
      "text/markdown": [
       "\n",
       "A matrix: 3 × 3 of type dbl\n",
       "\n",
       "| <!--/--> | US | non-US | worldwide_vector |\n",
       "|---|---|---|---|\n",
       "| A New Hope | 460.998 | 314.4 | 775.398 |\n",
       "| The Empire Strikes Back | 290.475 | 247.9 | 538.375 |\n",
       "| Return of the Jedi | 309.306 | 165.8 | 475.106 |\n",
       "\n"
      ],
      "text/plain": [
       "                        US      non-US worldwide_vector\n",
       "A New Hope              460.998 314.4  775.398         \n",
       "The Empire Strikes Back 290.475 247.9  538.375         \n",
       "Return of the Jedi      309.306 165.8  475.106         "
      ]
     },
     "metadata": {},
     "output_type": "display_data"
    }
   ],
   "source": [
    "# Construct star_wars_matrix\n",
    "box_office <- c(460.998, 314.4, 290.475, 247.900, 309.306, 165.8)\n",
    "region <- c(\"US\", \"non-US\")\n",
    "titles <- c(\"A New Hope\", \n",
    "            \"The Empire Strikes Back\", \n",
    "            \"Return of the Jedi\")\n",
    "               \n",
    "star_wars_matrix <- matrix(box_office, \n",
    "                      nrow = 3, byrow = TRUE,\n",
    "                      dimnames = list(titles, region))\n",
    "\n",
    "# The worldwide box office figures\n",
    "worldwide_vector <- rowSums(star_wars_matrix)\n",
    "\n",
    "# Bind the new variable worldwide_vector as a column to star_wars_matrix\n",
    "all_wars_matrix <- cbind(star_wars_matrix, worldwide_vector)\n",
    "all_wars_matrix"
   ]
  },
  {
   "cell_type": "markdown",
   "metadata": {},
   "source": [
    "### `06-Adding a row`\n",
    "* Use `rbind()` to paste together `star_wars_matrix` and `star_wars_matrix2`, in this order. Assign the resulting matrix to `all_wars_matrix`."
   ]
  },
  {
   "cell_type": "code",
   "execution_count": 30,
   "metadata": {
    "vscode": {
     "languageId": "r"
    }
   },
   "outputs": [
    {
     "data": {
      "text/html": [
       "<table class=\"dataframe\">\n",
       "<caption>A matrix: 3 × 2 of type dbl</caption>\n",
       "<thead>\n",
       "\t<tr><th></th><th scope=col>US</th><th scope=col>non-US</th></tr>\n",
       "</thead>\n",
       "<tbody>\n",
       "\t<tr><th scope=row>A New Hope</th><td>461.0</td><td>314.4</td></tr>\n",
       "\t<tr><th scope=row>The Empire Strikes Back</th><td>290.5</td><td>247.9</td></tr>\n",
       "\t<tr><th scope=row>Return of the Jedi</th><td>309.3</td><td>165.8</td></tr>\n",
       "</tbody>\n",
       "</table>\n"
      ],
      "text/latex": [
       "A matrix: 3 × 2 of type dbl\n",
       "\\begin{tabular}{r|ll}\n",
       "  & US & non-US\\\\\n",
       "\\hline\n",
       "\tA New Hope & 461.0 & 314.4\\\\\n",
       "\tThe Empire Strikes Back & 290.5 & 247.9\\\\\n",
       "\tReturn of the Jedi & 309.3 & 165.8\\\\\n",
       "\\end{tabular}\n"
      ],
      "text/markdown": [
       "\n",
       "A matrix: 3 × 2 of type dbl\n",
       "\n",
       "| <!--/--> | US | non-US |\n",
       "|---|---|---|\n",
       "| A New Hope | 461.0 | 314.4 |\n",
       "| The Empire Strikes Back | 290.5 | 247.9 |\n",
       "| Return of the Jedi | 309.3 | 165.8 |\n",
       "\n"
      ],
      "text/plain": [
       "                        US    non-US\n",
       "A New Hope              461.0 314.4 \n",
       "The Empire Strikes Back 290.5 247.9 \n",
       "Return of the Jedi      309.3 165.8 "
      ]
     },
     "metadata": {},
     "output_type": "display_data"
    },
    {
     "data": {
      "text/html": [
       "<table class=\"dataframe\">\n",
       "<caption>A matrix: 3 × 2 of type dbl</caption>\n",
       "<thead>\n",
       "\t<tr><th></th><th scope=col>US</th><th scope=col>non-US</th></tr>\n",
       "</thead>\n",
       "<tbody>\n",
       "\t<tr><th scope=row>A New Hope</th><td>474.5</td><td>552.5</td></tr>\n",
       "\t<tr><th scope=row>The Empire Strikes Back</th><td>310.7</td><td>338.7</td></tr>\n",
       "\t<tr><th scope=row>Return of the Jedi</th><td>380.3</td><td>468.5</td></tr>\n",
       "</tbody>\n",
       "</table>\n"
      ],
      "text/latex": [
       "A matrix: 3 × 2 of type dbl\n",
       "\\begin{tabular}{r|ll}\n",
       "  & US & non-US\\\\\n",
       "\\hline\n",
       "\tA New Hope & 474.5 & 552.5\\\\\n",
       "\tThe Empire Strikes Back & 310.7 & 338.7\\\\\n",
       "\tReturn of the Jedi & 380.3 & 468.5\\\\\n",
       "\\end{tabular}\n"
      ],
      "text/markdown": [
       "\n",
       "A matrix: 3 × 2 of type dbl\n",
       "\n",
       "| <!--/--> | US | non-US |\n",
       "|---|---|---|\n",
       "| A New Hope | 474.5 | 552.5 |\n",
       "| The Empire Strikes Back | 310.7 | 338.7 |\n",
       "| Return of the Jedi | 380.3 | 468.5 |\n",
       "\n"
      ],
      "text/plain": [
       "                        US    non-US\n",
       "A New Hope              474.5 552.5 \n",
       "The Empire Strikes Back 310.7 338.7 \n",
       "Return of the Jedi      380.3 468.5 "
      ]
     },
     "metadata": {},
     "output_type": "display_data"
    }
   ],
   "source": [
    "box_office1 <- c(461.0, 314.4, 290.5, 247.9, 309.3, 165.8)\n",
    "box_office2 <- c(474.5, 552.5, 310.7, 338.7, 380.3, 468.5)\n",
    "region <- c(\"US\", \"non-US\")\n",
    "titles <- c(\"A New Hope\",\n",
    "            \"The Empire Strikes Back\",\n",
    "            \"Return of the Jedi\")\n",
    "\n",
    "# star_wars_matrix and star_wars_matrix2 are available in your workspace\n",
    "star_wars_matrix <- matrix(box_office1, nrow=3, byrow=TRUE, dimnames = list(titles, region))\n",
    "star_wars_matrix2 <- matrix(box_office2, nrow=3, byrow=TRUE, dimnames = list(titles, region))\n",
    "\n",
    "star_wars_matrix\n",
    "star_wars_matrix2"
   ]
  },
  {
   "cell_type": "code",
   "execution_count": 31,
   "metadata": {
    "vscode": {
     "languageId": "r"
    }
   },
   "outputs": [
    {
     "data": {
      "text/html": [
       "<table class=\"dataframe\">\n",
       "<caption>A matrix: 6 × 2 of type dbl</caption>\n",
       "<thead>\n",
       "\t<tr><th></th><th scope=col>US</th><th scope=col>non-US</th></tr>\n",
       "</thead>\n",
       "<tbody>\n",
       "\t<tr><th scope=row>A New Hope</th><td>461.0</td><td>314.4</td></tr>\n",
       "\t<tr><th scope=row>The Empire Strikes Back</th><td>290.5</td><td>247.9</td></tr>\n",
       "\t<tr><th scope=row>Return of the Jedi</th><td>309.3</td><td>165.8</td></tr>\n",
       "\t<tr><th scope=row>A New Hope</th><td>474.5</td><td>552.5</td></tr>\n",
       "\t<tr><th scope=row>The Empire Strikes Back</th><td>310.7</td><td>338.7</td></tr>\n",
       "\t<tr><th scope=row>Return of the Jedi</th><td>380.3</td><td>468.5</td></tr>\n",
       "</tbody>\n",
       "</table>\n"
      ],
      "text/latex": [
       "A matrix: 6 × 2 of type dbl\n",
       "\\begin{tabular}{r|ll}\n",
       "  & US & non-US\\\\\n",
       "\\hline\n",
       "\tA New Hope & 461.0 & 314.4\\\\\n",
       "\tThe Empire Strikes Back & 290.5 & 247.9\\\\\n",
       "\tReturn of the Jedi & 309.3 & 165.8\\\\\n",
       "\tA New Hope & 474.5 & 552.5\\\\\n",
       "\tThe Empire Strikes Back & 310.7 & 338.7\\\\\n",
       "\tReturn of the Jedi & 380.3 & 468.5\\\\\n",
       "\\end{tabular}\n"
      ],
      "text/markdown": [
       "\n",
       "A matrix: 6 × 2 of type dbl\n",
       "\n",
       "| <!--/--> | US | non-US |\n",
       "|---|---|---|\n",
       "| A New Hope | 461.0 | 314.4 |\n",
       "| The Empire Strikes Back | 290.5 | 247.9 |\n",
       "| Return of the Jedi | 309.3 | 165.8 |\n",
       "| A New Hope | 474.5 | 552.5 |\n",
       "| The Empire Strikes Back | 310.7 | 338.7 |\n",
       "| Return of the Jedi | 380.3 | 468.5 |\n",
       "\n"
      ],
      "text/plain": [
       "                        US    non-US\n",
       "A New Hope              461.0 314.4 \n",
       "The Empire Strikes Back 290.5 247.9 \n",
       "Return of the Jedi      309.3 165.8 \n",
       "A New Hope              474.5 552.5 \n",
       "The Empire Strikes Back 310.7 338.7 \n",
       "Return of the Jedi      380.3 468.5 "
      ]
     },
     "metadata": {},
     "output_type": "display_data"
    }
   ],
   "source": [
    "# Combine both Star Wars trilogies in one matrix\n",
    "all_wars_matrix <- rbind(star_wars_matrix, star_wars_matrix2)\n",
    "all_wars_matrix"
   ]
  },
  {
   "cell_type": "markdown",
   "metadata": {},
   "source": [
    "### `7-The total box office revenue for the entire saga`\n",
    "\n",
    "Just like `cbind()` has `rbind()`, `colSums()` has `rowSums()`. Your R workspace already contains the `all_wars_matrix` that you constructed in the previous exercise; type `all_wars_matrix` to have another look. Let's now calculate the total box office revenue for the entire saga.\n",
    "\n",
    "* Calculate the total revenue for the US and the non-US region and assign `total_revenue_vector`. You can use the `colSums()` function.\n",
    "* Print out `total_revenue_vector` to have a look at the results.\n",
    "\n"
   ]
  },
  {
   "cell_type": "code",
   "execution_count": 32,
   "metadata": {
    "vscode": {
     "languageId": "r"
    }
   },
   "outputs": [
    {
     "data": {
      "text/html": [
       "<table class=\"dataframe\">\n",
       "<caption>A matrix: 6 × 2 of type dbl</caption>\n",
       "<thead>\n",
       "\t<tr><th></th><th scope=col>US</th><th scope=col>non-US</th></tr>\n",
       "</thead>\n",
       "<tbody>\n",
       "\t<tr><th scope=row>A New Hope</th><td>461.0</td><td>314.4</td></tr>\n",
       "\t<tr><th scope=row>The Empire Strikes Back</th><td>290.5</td><td>247.9</td></tr>\n",
       "\t<tr><th scope=row>Return of the Jedi</th><td>309.3</td><td>165.8</td></tr>\n",
       "\t<tr><th scope=row>A New Hope</th><td>474.5</td><td>552.5</td></tr>\n",
       "\t<tr><th scope=row>The Empire Strikes Back</th><td>310.7</td><td>338.7</td></tr>\n",
       "\t<tr><th scope=row>Return of the Jedi</th><td>380.3</td><td>468.5</td></tr>\n",
       "</tbody>\n",
       "</table>\n"
      ],
      "text/latex": [
       "A matrix: 6 × 2 of type dbl\n",
       "\\begin{tabular}{r|ll}\n",
       "  & US & non-US\\\\\n",
       "\\hline\n",
       "\tA New Hope & 461.0 & 314.4\\\\\n",
       "\tThe Empire Strikes Back & 290.5 & 247.9\\\\\n",
       "\tReturn of the Jedi & 309.3 & 165.8\\\\\n",
       "\tA New Hope & 474.5 & 552.5\\\\\n",
       "\tThe Empire Strikes Back & 310.7 & 338.7\\\\\n",
       "\tReturn of the Jedi & 380.3 & 468.5\\\\\n",
       "\\end{tabular}\n"
      ],
      "text/markdown": [
       "\n",
       "A matrix: 6 × 2 of type dbl\n",
       "\n",
       "| <!--/--> | US | non-US |\n",
       "|---|---|---|\n",
       "| A New Hope | 461.0 | 314.4 |\n",
       "| The Empire Strikes Back | 290.5 | 247.9 |\n",
       "| Return of the Jedi | 309.3 | 165.8 |\n",
       "| A New Hope | 474.5 | 552.5 |\n",
       "| The Empire Strikes Back | 310.7 | 338.7 |\n",
       "| Return of the Jedi | 380.3 | 468.5 |\n",
       "\n"
      ],
      "text/plain": [
       "                        US    non-US\n",
       "A New Hope              461.0 314.4 \n",
       "The Empire Strikes Back 290.5 247.9 \n",
       "Return of the Jedi      309.3 165.8 \n",
       "A New Hope              474.5 552.5 \n",
       "The Empire Strikes Back 310.7 338.7 \n",
       "Return of the Jedi      380.3 468.5 "
      ]
     },
     "metadata": {},
     "output_type": "display_data"
    },
    {
     "data": {
      "text/html": [
       "<style>\n",
       ".dl-inline {width: auto; margin:0; padding: 0}\n",
       ".dl-inline>dt, .dl-inline>dd {float: none; width: auto; display: inline-block}\n",
       ".dl-inline>dt::after {content: \":\\0020\"; padding-right: .5ex}\n",
       ".dl-inline>dt:not(:first-of-type) {padding-left: .5ex}\n",
       "</style><dl class=dl-inline><dt>US</dt><dd>2226.3</dd><dt>non-US</dt><dd>2087.8</dd></dl>\n"
      ],
      "text/latex": [
       "\\begin{description*}\n",
       "\\item[US] 2226.3\n",
       "\\item[non-US] 2087.8\n",
       "\\end{description*}\n"
      ],
      "text/markdown": [
       "US\n",
       ":   2226.3non-US\n",
       ":   2087.8\n",
       "\n"
      ],
      "text/plain": [
       "    US non-US \n",
       "2226.3 2087.8 "
      ]
     },
     "metadata": {},
     "output_type": "display_data"
    }
   ],
   "source": [
    "# all_wars_matrix is available in your workspace\n",
    "all_wars_matrix\n",
    "\n",
    "# Total revenue for US and non-US\n",
    "total_revenue_vector <- colSums(all_wars_matrix)\n",
    "  \n",
    "# Print out total_revenue_vector\n",
    "total_revenue_vector"
   ]
  },
  {
   "cell_type": "markdown",
   "metadata": {},
   "source": [
    "### `8-Selection of matrix elements`\n",
    "\n",
    "- Select the non-US revenue for all movies (the entire second column of `all_wars_matrix`), store the result as `non_us_all`.\n",
    "- Use `mean()` on `non_us_all` to calculate the average non-US revenue for all movies. Simply print out the result.\n",
    "- This time, select the non-US revenue for the first two movies in `all_wars_matrix`. Store the result as `non_us_some`.\n",
    "- Use `mean()` again to print out the average of the values in `non_us_some`."
   ]
  },
  {
   "cell_type": "code",
   "execution_count": 33,
   "metadata": {
    "vscode": {
     "languageId": "r"
    }
   },
   "outputs": [
    {
     "data": {
      "text/html": [
       "<table class=\"dataframe\">\n",
       "<caption>A matrix: 6 × 2 of type dbl</caption>\n",
       "<thead>\n",
       "\t<tr><th></th><th scope=col>US</th><th scope=col>non-US</th></tr>\n",
       "</thead>\n",
       "<tbody>\n",
       "\t<tr><th scope=row>A New Hope</th><td>461.0</td><td>314.4</td></tr>\n",
       "\t<tr><th scope=row>The Empire Strikes Back</th><td>290.5</td><td>247.9</td></tr>\n",
       "\t<tr><th scope=row>Return of the Jedi</th><td>309.3</td><td>165.8</td></tr>\n",
       "\t<tr><th scope=row>A New Hope</th><td>474.5</td><td>552.5</td></tr>\n",
       "\t<tr><th scope=row>The Empire Strikes Back</th><td>310.7</td><td>338.7</td></tr>\n",
       "\t<tr><th scope=row>Return of the Jedi</th><td>380.3</td><td>468.5</td></tr>\n",
       "</tbody>\n",
       "</table>\n"
      ],
      "text/latex": [
       "A matrix: 6 × 2 of type dbl\n",
       "\\begin{tabular}{r|ll}\n",
       "  & US & non-US\\\\\n",
       "\\hline\n",
       "\tA New Hope & 461.0 & 314.4\\\\\n",
       "\tThe Empire Strikes Back & 290.5 & 247.9\\\\\n",
       "\tReturn of the Jedi & 309.3 & 165.8\\\\\n",
       "\tA New Hope & 474.5 & 552.5\\\\\n",
       "\tThe Empire Strikes Back & 310.7 & 338.7\\\\\n",
       "\tReturn of the Jedi & 380.3 & 468.5\\\\\n",
       "\\end{tabular}\n"
      ],
      "text/markdown": [
       "\n",
       "A matrix: 6 × 2 of type dbl\n",
       "\n",
       "| <!--/--> | US | non-US |\n",
       "|---|---|---|\n",
       "| A New Hope | 461.0 | 314.4 |\n",
       "| The Empire Strikes Back | 290.5 | 247.9 |\n",
       "| Return of the Jedi | 309.3 | 165.8 |\n",
       "| A New Hope | 474.5 | 552.5 |\n",
       "| The Empire Strikes Back | 310.7 | 338.7 |\n",
       "| Return of the Jedi | 380.3 | 468.5 |\n",
       "\n"
      ],
      "text/plain": [
       "                        US    non-US\n",
       "A New Hope              461.0 314.4 \n",
       "The Empire Strikes Back 290.5 247.9 \n",
       "Return of the Jedi      309.3 165.8 \n",
       "A New Hope              474.5 552.5 \n",
       "The Empire Strikes Back 310.7 338.7 \n",
       "Return of the Jedi      380.3 468.5 "
      ]
     },
     "metadata": {},
     "output_type": "display_data"
    },
    {
     "data": {
      "text/html": [
       "347.966666666667"
      ],
      "text/latex": [
       "347.966666666667"
      ],
      "text/markdown": [
       "347.966666666667"
      ],
      "text/plain": [
       "[1] 347.9667"
      ]
     },
     "metadata": {},
     "output_type": "display_data"
    },
    {
     "data": {
      "text/html": [
       "281.15"
      ],
      "text/latex": [
       "281.15"
      ],
      "text/markdown": [
       "281.15"
      ],
      "text/plain": [
       "[1] 281.15"
      ]
     },
     "metadata": {},
     "output_type": "display_data"
    }
   ],
   "source": [
    "# all_wars_matrix is available in your workspace\n",
    "all_wars_matrix[]\n",
    "\n",
    "# Select the non-US revenue for all movies\n",
    "non_us_all <- all_wars_matrix[,2]\n",
    "  \n",
    "# Average non-US revenue\n",
    "mean(non_us_all)\n",
    "  \n",
    "# Select the non-US revenue for first two movies\n",
    "non_us_some <- all_wars_matrix[1:2,2]\n",
    "  \n",
    "# Average non-US revenue for first two movies\n",
    "mean(non_us_some)"
   ]
  },
  {
   "cell_type": "markdown",
   "metadata": {},
   "source": [
    "### `09-A little arithmetic with matrices`\n",
    "* Divide `all_wars_matrix` by 5, giving you the number of visitors in millions. Assign the resulting matrix to `visitors`.\n",
    "* Print out `visitors` so you can have a look."
   ]
  },
  {
   "cell_type": "code",
   "execution_count": 34,
   "metadata": {
    "vscode": {
     "languageId": "r"
    }
   },
   "outputs": [
    {
     "data": {
      "text/html": [
       "<table class=\"dataframe\">\n",
       "<caption>A matrix: 6 × 2 of type dbl</caption>\n",
       "<thead>\n",
       "\t<tr><th></th><th scope=col>US</th><th scope=col>non-US</th></tr>\n",
       "</thead>\n",
       "<tbody>\n",
       "\t<tr><th scope=row>A New Hope</th><td>461.0</td><td>314.4</td></tr>\n",
       "\t<tr><th scope=row>The Empire Strikes Back</th><td>290.5</td><td>247.9</td></tr>\n",
       "\t<tr><th scope=row>Return of the Jedi</th><td>309.3</td><td>165.8</td></tr>\n",
       "\t<tr><th scope=row>A New Hope</th><td>474.5</td><td>552.5</td></tr>\n",
       "\t<tr><th scope=row>The Empire Strikes Back</th><td>310.7</td><td>338.7</td></tr>\n",
       "\t<tr><th scope=row>Return of the Jedi</th><td>380.3</td><td>468.5</td></tr>\n",
       "</tbody>\n",
       "</table>\n"
      ],
      "text/latex": [
       "A matrix: 6 × 2 of type dbl\n",
       "\\begin{tabular}{r|ll}\n",
       "  & US & non-US\\\\\n",
       "\\hline\n",
       "\tA New Hope & 461.0 & 314.4\\\\\n",
       "\tThe Empire Strikes Back & 290.5 & 247.9\\\\\n",
       "\tReturn of the Jedi & 309.3 & 165.8\\\\\n",
       "\tA New Hope & 474.5 & 552.5\\\\\n",
       "\tThe Empire Strikes Back & 310.7 & 338.7\\\\\n",
       "\tReturn of the Jedi & 380.3 & 468.5\\\\\n",
       "\\end{tabular}\n"
      ],
      "text/markdown": [
       "\n",
       "A matrix: 6 × 2 of type dbl\n",
       "\n",
       "| <!--/--> | US | non-US |\n",
       "|---|---|---|\n",
       "| A New Hope | 461.0 | 314.4 |\n",
       "| The Empire Strikes Back | 290.5 | 247.9 |\n",
       "| Return of the Jedi | 309.3 | 165.8 |\n",
       "| A New Hope | 474.5 | 552.5 |\n",
       "| The Empire Strikes Back | 310.7 | 338.7 |\n",
       "| Return of the Jedi | 380.3 | 468.5 |\n",
       "\n"
      ],
      "text/plain": [
       "                        US    non-US\n",
       "A New Hope              461.0 314.4 \n",
       "The Empire Strikes Back 290.5 247.9 \n",
       "Return of the Jedi      309.3 165.8 \n",
       "A New Hope              474.5 552.5 \n",
       "The Empire Strikes Back 310.7 338.7 \n",
       "Return of the Jedi      380.3 468.5 "
      ]
     },
     "metadata": {},
     "output_type": "display_data"
    },
    {
     "data": {
      "text/html": [
       "<table class=\"dataframe\">\n",
       "<caption>A matrix: 6 × 2 of type dbl</caption>\n",
       "<thead>\n",
       "\t<tr><th></th><th scope=col>US</th><th scope=col>non-US</th></tr>\n",
       "</thead>\n",
       "<tbody>\n",
       "\t<tr><th scope=row>A New Hope</th><td>92.20</td><td> 62.88</td></tr>\n",
       "\t<tr><th scope=row>The Empire Strikes Back</th><td>58.10</td><td> 49.58</td></tr>\n",
       "\t<tr><th scope=row>Return of the Jedi</th><td>61.86</td><td> 33.16</td></tr>\n",
       "\t<tr><th scope=row>A New Hope</th><td>94.90</td><td>110.50</td></tr>\n",
       "\t<tr><th scope=row>The Empire Strikes Back</th><td>62.14</td><td> 67.74</td></tr>\n",
       "\t<tr><th scope=row>Return of the Jedi</th><td>76.06</td><td> 93.70</td></tr>\n",
       "</tbody>\n",
       "</table>\n"
      ],
      "text/latex": [
       "A matrix: 6 × 2 of type dbl\n",
       "\\begin{tabular}{r|ll}\n",
       "  & US & non-US\\\\\n",
       "\\hline\n",
       "\tA New Hope & 92.20 &  62.88\\\\\n",
       "\tThe Empire Strikes Back & 58.10 &  49.58\\\\\n",
       "\tReturn of the Jedi & 61.86 &  33.16\\\\\n",
       "\tA New Hope & 94.90 & 110.50\\\\\n",
       "\tThe Empire Strikes Back & 62.14 &  67.74\\\\\n",
       "\tReturn of the Jedi & 76.06 &  93.70\\\\\n",
       "\\end{tabular}\n"
      ],
      "text/markdown": [
       "\n",
       "A matrix: 6 × 2 of type dbl\n",
       "\n",
       "| <!--/--> | US | non-US |\n",
       "|---|---|---|\n",
       "| A New Hope | 92.20 |  62.88 |\n",
       "| The Empire Strikes Back | 58.10 |  49.58 |\n",
       "| Return of the Jedi | 61.86 |  33.16 |\n",
       "| A New Hope | 94.90 | 110.50 |\n",
       "| The Empire Strikes Back | 62.14 |  67.74 |\n",
       "| Return of the Jedi | 76.06 |  93.70 |\n",
       "\n"
      ],
      "text/plain": [
       "                        US    non-US\n",
       "A New Hope              92.20  62.88\n",
       "The Empire Strikes Back 58.10  49.58\n",
       "Return of the Jedi      61.86  33.16\n",
       "A New Hope              94.90 110.50\n",
       "The Empire Strikes Back 62.14  67.74\n",
       "Return of the Jedi      76.06  93.70"
      ]
     },
     "metadata": {},
     "output_type": "display_data"
    }
   ],
   "source": [
    "# all_wars_matrix is available in your workspace\n",
    "all_wars_matrix\n",
    "\n",
    "# Estimate the visitors\n",
    "visitors <- all_wars_matrix / 5 \n",
    "  \n",
    "# Print the estimate to the console\n",
    "visitors"
   ]
  },
  {
   "cell_type": "markdown",
   "metadata": {},
   "source": [
    "### `10-A little arithmetic with matrices (2)`\n",
    "* Divide `all_wars_matrix` by `ticket_prices_matrix` to get the estimated number of US and non-US visitors for the six movies. Assign the result to `visitors`.\n",
    "* From the `visitors` matrix, select the entire first column, representing the number of visitors in the US. Store this selection as `us_visitors`.\n",
    "* Calculate the average number of US visitors; print out the result."
   ]
  },
  {
   "cell_type": "code",
   "execution_count": 40,
   "metadata": {
    "vscode": {
     "languageId": "r"
    }
   },
   "outputs": [],
   "source": [
    "price <- c(5.0, 6.0, 7.0, 4.0, 4.5, 4.9, 5.0, 6.0, 7.0, 4.0, 4.5, 4.9)\n",
    "region <- c(\"US\",\"non-US\")\n",
    "titles <- c(\"A New Hope\",\n",
    "            \"The Empire Strikes Back\",\n",
    "            \"Return of the Jedi\",\n",
    "            \"A New Hope\",\n",
    "            \"The Empire Strikes Back\",\n",
    "            \"Return of the Jedi\")\n",
    "\n",
    "ticket_prices_matrix <- matrix(price, nrow=6, byrow=TRUE, dimnames = list(titles, region))"
   ]
  },
  {
   "cell_type": "code",
   "execution_count": 43,
   "metadata": {
    "vscode": {
     "languageId": "r"
    }
   },
   "outputs": [
    {
     "data": {
      "text/html": [
       "<table class=\"dataframe\">\n",
       "<caption>A matrix: 6 × 2 of type dbl</caption>\n",
       "<thead>\n",
       "\t<tr><th></th><th scope=col>US</th><th scope=col>non-US</th></tr>\n",
       "</thead>\n",
       "<tbody>\n",
       "\t<tr><th scope=row>A New Hope</th><td>461.0</td><td>314.4</td></tr>\n",
       "\t<tr><th scope=row>The Empire Strikes Back</th><td>290.5</td><td>247.9</td></tr>\n",
       "\t<tr><th scope=row>Return of the Jedi</th><td>309.3</td><td>165.8</td></tr>\n",
       "\t<tr><th scope=row>A New Hope</th><td>474.5</td><td>552.5</td></tr>\n",
       "\t<tr><th scope=row>The Empire Strikes Back</th><td>310.7</td><td>338.7</td></tr>\n",
       "\t<tr><th scope=row>Return of the Jedi</th><td>380.3</td><td>468.5</td></tr>\n",
       "</tbody>\n",
       "</table>\n"
      ],
      "text/latex": [
       "A matrix: 6 × 2 of type dbl\n",
       "\\begin{tabular}{r|ll}\n",
       "  & US & non-US\\\\\n",
       "\\hline\n",
       "\tA New Hope & 461.0 & 314.4\\\\\n",
       "\tThe Empire Strikes Back & 290.5 & 247.9\\\\\n",
       "\tReturn of the Jedi & 309.3 & 165.8\\\\\n",
       "\tA New Hope & 474.5 & 552.5\\\\\n",
       "\tThe Empire Strikes Back & 310.7 & 338.7\\\\\n",
       "\tReturn of the Jedi & 380.3 & 468.5\\\\\n",
       "\\end{tabular}\n"
      ],
      "text/markdown": [
       "\n",
       "A matrix: 6 × 2 of type dbl\n",
       "\n",
       "| <!--/--> | US | non-US |\n",
       "|---|---|---|\n",
       "| A New Hope | 461.0 | 314.4 |\n",
       "| The Empire Strikes Back | 290.5 | 247.9 |\n",
       "| Return of the Jedi | 309.3 | 165.8 |\n",
       "| A New Hope | 474.5 | 552.5 |\n",
       "| The Empire Strikes Back | 310.7 | 338.7 |\n",
       "| Return of the Jedi | 380.3 | 468.5 |\n",
       "\n"
      ],
      "text/plain": [
       "                        US    non-US\n",
       "A New Hope              461.0 314.4 \n",
       "The Empire Strikes Back 290.5 247.9 \n",
       "Return of the Jedi      309.3 165.8 \n",
       "A New Hope              474.5 552.5 \n",
       "The Empire Strikes Back 310.7 338.7 \n",
       "Return of the Jedi      380.3 468.5 "
      ]
     },
     "metadata": {},
     "output_type": "display_data"
    },
    {
     "data": {
      "text/html": [
       "<table class=\"dataframe\">\n",
       "<caption>A matrix: 6 × 2 of type dbl</caption>\n",
       "<thead>\n",
       "\t<tr><th></th><th scope=col>US</th><th scope=col>non-US</th></tr>\n",
       "</thead>\n",
       "<tbody>\n",
       "\t<tr><th scope=row>A New Hope</th><td>5.0</td><td>6.0</td></tr>\n",
       "\t<tr><th scope=row>The Empire Strikes Back</th><td>7.0</td><td>4.0</td></tr>\n",
       "\t<tr><th scope=row>Return of the Jedi</th><td>4.5</td><td>4.9</td></tr>\n",
       "\t<tr><th scope=row>A New Hope</th><td>5.0</td><td>6.0</td></tr>\n",
       "\t<tr><th scope=row>The Empire Strikes Back</th><td>7.0</td><td>4.0</td></tr>\n",
       "\t<tr><th scope=row>Return of the Jedi</th><td>4.5</td><td>4.9</td></tr>\n",
       "</tbody>\n",
       "</table>\n"
      ],
      "text/latex": [
       "A matrix: 6 × 2 of type dbl\n",
       "\\begin{tabular}{r|ll}\n",
       "  & US & non-US\\\\\n",
       "\\hline\n",
       "\tA New Hope & 5.0 & 6.0\\\\\n",
       "\tThe Empire Strikes Back & 7.0 & 4.0\\\\\n",
       "\tReturn of the Jedi & 4.5 & 4.9\\\\\n",
       "\tA New Hope & 5.0 & 6.0\\\\\n",
       "\tThe Empire Strikes Back & 7.0 & 4.0\\\\\n",
       "\tReturn of the Jedi & 4.5 & 4.9\\\\\n",
       "\\end{tabular}\n"
      ],
      "text/markdown": [
       "\n",
       "A matrix: 6 × 2 of type dbl\n",
       "\n",
       "| <!--/--> | US | non-US |\n",
       "|---|---|---|\n",
       "| A New Hope | 5.0 | 6.0 |\n",
       "| The Empire Strikes Back | 7.0 | 4.0 |\n",
       "| Return of the Jedi | 4.5 | 4.9 |\n",
       "| A New Hope | 5.0 | 6.0 |\n",
       "| The Empire Strikes Back | 7.0 | 4.0 |\n",
       "| Return of the Jedi | 4.5 | 4.9 |\n",
       "\n"
      ],
      "text/plain": [
       "                        US  non-US\n",
       "A New Hope              5.0 6.0   \n",
       "The Empire Strikes Back 7.0 4.0   \n",
       "Return of the Jedi      4.5 4.9   \n",
       "A New Hope              5.0 6.0   \n",
       "The Empire Strikes Back 7.0 4.0   \n",
       "Return of the Jedi      4.5 4.9   "
      ]
     },
     "metadata": {},
     "output_type": "display_data"
    },
    {
     "data": {
      "text/html": [
       "71.0383597883598"
      ],
      "text/latex": [
       "71.0383597883598"
      ],
      "text/markdown": [
       "71.0383597883598"
      ],
      "text/plain": [
       "[1] 71.03836"
      ]
     },
     "metadata": {},
     "output_type": "display_data"
    }
   ],
   "source": [
    "# all_wars_matrix and ticket_prices_matrix are available in your workspace\n",
    "all_wars_matrix\n",
    "ticket_prices_matrix\n",
    "\n",
    "# Estimated number of visitors\n",
    "visitors <- all_wars_matrix / ticket_prices_matrix\n",
    "\n",
    "# US visitors\n",
    "us_visitors <- visitors[,1]\n",
    "\n",
    "# Average number of US visitors\n",
    "mean(us_visitors)"
   ]
  },
  {
   "cell_type": "markdown",
   "metadata": {},
   "source": [
    "### `The End` "
   ]
  }
 ],
 "metadata": {
  "kernelspec": {
   "display_name": "R",
   "language": "R",
   "name": "ir"
  },
  "language_info": {
   "codemirror_mode": "r",
   "file_extension": ".r",
   "mimetype": "text/x-r-source",
   "name": "R",
   "pygments_lexer": "r",
   "version": "4.2.0"
  },
  "orig_nbformat": 4
 },
 "nbformat": 4,
 "nbformat_minor": 2
}
