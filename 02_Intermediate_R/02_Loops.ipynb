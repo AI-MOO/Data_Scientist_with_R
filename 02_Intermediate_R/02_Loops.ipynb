{
 "cells": [
  {
   "cell_type": "markdown",
   "metadata": {},
   "source": [
    "# Section 02: Loops\n",
    "\n",
    "### `01-Write a while loop`\n",
    "\n",
    "Code a `while` loop with the following characteristics:\n",
    "\n",
    "- The condition of the `while` loop should check if `speed` is higher than 30.\n",
    "- Inside the body of the `while` loop, print out \"Slow down!\".\n",
    "- Inside the body of the `while` loop, decrease the `speed` by 7 units and assign this new value to `speed` again. \n",
    "\n",
    "This step is crucial; otherwise your `while` loop will never stop and your session will expire.\n"
   ]
  },
  {
   "cell_type": "code",
   "execution_count": 1,
   "metadata": {
    "vscode": {
     "languageId": "r"
    }
   },
   "outputs": [
    {
     "name": "stdout",
     "output_type": "stream",
     "text": [
      "[1] \"Slow down!\"\n",
      "[1] \"Slow down!\"\n",
      "[1] \"Slow down!\"\n",
      "[1] \"Slow down!\"\n",
      "[1] \"Slow down!\"\n"
     ]
    },
    {
     "data": {
      "text/html": [
       "29"
      ],
      "text/latex": [
       "29"
      ],
      "text/markdown": [
       "29"
      ],
      "text/plain": [
       "[1] 29"
      ]
     },
     "metadata": {},
     "output_type": "display_data"
    }
   ],
   "source": [
    "# Initialize the speed variable\n",
    "speed <- 64\n",
    "\n",
    "# Code the while loop\n",
    "while (speed > 30) {\n",
    "  print(\"Slow down!\")\n",
    "  speed <- speed - 7\n",
    "}\n",
    "\n",
    "# Print out the speed variable\n",
    "speed"
   ]
  },
  {
   "cell_type": "markdown",
   "metadata": {},
   "source": [
    "### `02-Throw in more conditionals`\n",
    "\n",
    "- If the speed is greater than 48, have R print out \"Slow down big time!\", and decrease the speed by `11`.\n",
    "- Otherwise, have R simply print out \"Slow down!\", and decrease the speed by `6`.\n"
   ]
  },
  {
   "cell_type": "code",
   "execution_count": 2,
   "metadata": {
    "vscode": {
     "languageId": "r"
    }
   },
   "outputs": [
    {
     "name": "stdout",
     "output_type": "stream",
     "text": [
      "[1] \"Your speed is 64\"\n",
      "[1] \"Slow down big time!\"\n",
      "[1] \"Your speed is 53\"\n",
      "[1] \"Slow down big time!\"\n",
      "[1] \"Your speed is 42\"\n",
      "[1] \"Slow down!\"\n",
      "[1] \"Your speed is 36\"\n",
      "[1] \"Slow down!\"\n"
     ]
    }
   ],
   "source": [
    "# Initialize the speed variable\n",
    "speed <- 64\n",
    "\n",
    "# Extend/adapt the while loop\n",
    "while (speed > 30) {\n",
    "  print(paste(\"Your speed is\",speed))\n",
    "  if (speed > 48) {\n",
    "    print(\"Slow down big time!\")\n",
    "    speed <- speed - 11\n",
    "  } else {\n",
    "    print(\"Slow down!\")\n",
    "    speed <- speed - 6 \n",
    "  }\n",
    "}"
   ]
  },
  {
   "cell_type": "markdown",
   "metadata": {},
   "source": [
    "### `03-Stop the while loop: break`\n",
    "\n",
    "- Adapt the `while` loop such that it is abandoned when the `speed` of the vehicle is greater than 80. This time, the `speed` variable has been initialized to 88; keep it that way.\n",
    "\n",
    "\n"
   ]
  },
  {
   "cell_type": "code",
   "execution_count": 3,
   "metadata": {
    "vscode": {
     "languageId": "r"
    }
   },
   "outputs": [
    {
     "name": "stdout",
     "output_type": "stream",
     "text": [
      "[1] \"Your speed is 88\"\n"
     ]
    }
   ],
   "source": [
    "# Initialize the speed variable\n",
    "speed <- 88\n",
    "\n",
    "while (speed > 30) {\n",
    "  print(paste(\"Your speed is\", speed))\n",
    "  \n",
    "  # Break the while loop when speed exceeds 80\n",
    "  if (speed > 80) {\n",
    "    break\n",
    "    \n",
    "  }\n",
    "  \n",
    "  if (speed > 48) {\n",
    "    print(\"Slow down big time!\")\n",
    "    speed <- speed - 11\n",
    "  } else {\n",
    "    print(\"Slow down!\")\n",
    "    speed <- speed - 6\n",
    "  }\n",
    "}"
   ]
  },
  {
   "cell_type": "markdown",
   "metadata": {},
   "source": [
    "### `04-Build a while loop from scratch`\n",
    "Finish the `while` loop so that it:\n",
    "\n",
    "- prints out the triple of `i`, so `3 * i`, at each run.\n",
    "- is abandoned with a `break` if the triple of `i` is divisible by 8, but still prints out this triple before breaking"
   ]
  },
  {
   "cell_type": "code",
   "execution_count": 4,
   "metadata": {
    "vscode": {
     "languageId": "r"
    }
   },
   "outputs": [
    {
     "name": "stdout",
     "output_type": "stream",
     "text": [
      "[1] 3\n",
      "[1] 6\n",
      "[1] 9\n",
      "[1] 12\n",
      "[1] 15\n",
      "[1] 18\n",
      "[1] 21\n",
      "[1] 24\n"
     ]
    }
   ],
   "source": [
    "# Initialize i as 1 \n",
    "i <- 1\n",
    "\n",
    "# Code the while loop\n",
    "while (i <= 10) {\n",
    "  print(3 * i)\n",
    "  if (i %% 8 == 0) {\n",
    "    break\n",
    "  }\n",
    "  i <- i + 1\n",
    "}"
   ]
  },
  {
   "cell_type": "markdown",
   "metadata": {},
   "source": [
    "### `05-Loop over a vector`\n",
    "- Write a `for` loop that iterates over all the elements of `linkedin` and prints out every element separately. Do this in two ways: using the loop version 1 and the loop version 2 in the example code above.\n",
    "\n",
    "\n"
   ]
  },
  {
   "cell_type": "code",
   "execution_count": 5,
   "metadata": {
    "vscode": {
     "languageId": "r"
    }
   },
   "outputs": [
    {
     "name": "stdout",
     "output_type": "stream",
     "text": [
      "[1] 16\n",
      "[1] 9\n",
      "[1] 13\n",
      "[1] 5\n",
      "[1] 2\n",
      "[1] 17\n",
      "[1] 14\n",
      "[1] 16\n",
      "[1] 9\n",
      "[1] 13\n",
      "[1] 5\n",
      "[1] 2\n",
      "[1] 17\n",
      "[1] 14\n"
     ]
    }
   ],
   "source": [
    "# The linkedin vector has already been defined for you\n",
    "linkedin <- c(16, 9, 13, 5, 2, 17, 14)\n",
    "\n",
    "# Loop version 1\n",
    "for (view_num in linkedin) {\n",
    "    print(view_num)\n",
    "}\n",
    "\n",
    "\n",
    "# Loop version 2\n",
    "for (i in 1:length(linkedin)) {\n",
    "    print(linkedin[i])\n",
    "}"
   ]
  },
  {
   "cell_type": "markdown",
   "metadata": {},
   "source": [
    "### `06-Loop over a list`\n",
    "\n",
    "As in the previous exercise, loop over the `nyc` list in two different ways to print its elements:\n",
    "\n",
    "- Loop directly over the `nyc` list (loop version 1).\n",
    "- Define a looping index and do subsetting using double brackets (loop version 2)."
   ]
  },
  {
   "cell_type": "code",
   "execution_count": 6,
   "metadata": {
    "vscode": {
     "languageId": "r"
    }
   },
   "outputs": [
    {
     "name": "stdout",
     "output_type": "stream",
     "text": [
      "[1] 8405837\n",
      "[1] \"Manhattan\"     \"Bronx\"         \"Brooklyn\"      \"Queens\"       \n",
      "[5] \"Staten Island\"\n",
      "[1] FALSE\n",
      "[1] 8405837\n",
      "[1] \"Manhattan\"     \"Bronx\"         \"Brooklyn\"      \"Queens\"       \n",
      "[5] \"Staten Island\"\n",
      "[1] FALSE\n"
     ]
    }
   ],
   "source": [
    "# The nyc list is already specified\n",
    "nyc <- list(pop = 8405837, \n",
    "            boroughs = c(\"Manhattan\", \"Bronx\", \"Brooklyn\", \"Queens\", \"Staten Island\"), \n",
    "            capital = FALSE)\n",
    "\n",
    "# Loop version 1\n",
    "for (element in nyc){\n",
    "    print(element)\n",
    "}\n",
    "\n",
    "# Loop version 2\n",
    "for (i in 1:length(nyc)) {\n",
    "    print(nyc[[i]])\n",
    "\n",
    "}"
   ]
  },
  {
   "cell_type": "markdown",
   "metadata": {},
   "source": [
    "### `07-Loop over a matrix`\n",
    "Finish the nested `for` loops to go over the elements in `ttt`:\n",
    "\n",
    "The outer loop should loop over the rows, with loop index `i` (use `1:nrow(ttt)`).\n",
    "The inner loop should loop over the columns, with loop index `j` (use `1:ncol(ttt)`).\n",
    "Inside the inner loop, make use of `print()` and `paste()` to print out information in the following format: \"On row i and column j the board contains `x`\", where `x` is the value on that position."
   ]
  },
  {
   "cell_type": "code",
   "execution_count": 9,
   "metadata": {
    "vscode": {
     "languageId": "r"
    }
   },
   "outputs": [
    {
     "data": {
      "text/html": [
       "<table class=\"dataframe\">\n",
       "<caption>A matrix: 3 × 3 of type chr</caption>\n",
       "<tbody>\n",
       "\t<tr><td>O </td><td>NA</td><td>X</td></tr>\n",
       "\t<tr><td>NA</td><td>O </td><td>O</td></tr>\n",
       "\t<tr><td>X </td><td>NA</td><td>X</td></tr>\n",
       "</tbody>\n",
       "</table>\n"
      ],
      "text/latex": [
       "A matrix: 3 × 3 of type chr\n",
       "\\begin{tabular}{lll}\n",
       "\t O  & NA & X\\\\\n",
       "\t NA & O  & O\\\\\n",
       "\t X  & NA & X\\\\\n",
       "\\end{tabular}\n"
      ],
      "text/markdown": [
       "\n",
       "A matrix: 3 × 3 of type chr\n",
       "\n",
       "| O  | NA | X |\n",
       "| NA | O  | O |\n",
       "| X  | NA | X |\n",
       "\n"
      ],
      "text/plain": [
       "     [,1] [,2] [,3]\n",
       "[1,] O    NA   X   \n",
       "[2,] NA   O    O   \n",
       "[3,] X    NA   X   "
      ]
     },
     "metadata": {},
     "output_type": "display_data"
    }
   ],
   "source": [
    "ttt_vector = c(\"O\", NA, \"X\", NA, \"O\", \"O\", \"X\", NA, \"X\")\n",
    "ttt = matrix(ttt_vector, nrow = 3, byrow =  TRUE)\n",
    "ttt"
   ]
  },
  {
   "cell_type": "code",
   "execution_count": 10,
   "metadata": {
    "vscode": {
     "languageId": "r"
    }
   },
   "outputs": [
    {
     "name": "stdout",
     "output_type": "stream",
     "text": [
      "[1] \"On row 1 and column 1 the board contains O\"\n",
      "[1] \"On row 1 and column 2 the board contains NA\"\n",
      "[1] \"On row 1 and column 3 the board contains X\"\n",
      "[1] \"On row 2 and column 1 the board contains NA\"\n",
      "[1] \"On row 2 and column 2 the board contains O\"\n",
      "[1] \"On row 2 and column 3 the board contains O\"\n",
      "[1] \"On row 3 and column 1 the board contains X\"\n",
      "[1] \"On row 3 and column 2 the board contains NA\"\n",
      "[1] \"On row 3 and column 3 the board contains X\"\n"
     ]
    }
   ],
   "source": [
    "# The tic-tac-toe matrix ttt has already been defined for you\n",
    "\n",
    "# define the double for loop\n",
    "for (i in 1:nrow(ttt)) {\n",
    "  for (j in 1:ncol(ttt)) {\n",
    "    print(paste(\"On row\", i, \"and column\", j,\n",
    "    \"the board contains\", ttt[i,j]))\n",
    "  }\n",
    "}"
   ]
  },
  {
   "cell_type": "markdown",
   "metadata": {},
   "source": [
    "### `08-Mix it up with control flow`\n",
    "\n",
    "Add code to the `for` loop that loops over the elements of the `linkedin` vector:\n",
    "\n",
    "- If the vector element's value exceeds 10, print out \"You're popular!\".\n",
    "- If the vector element's value does not exceed 10, print out \"Be more visible!\""
   ]
  },
  {
   "cell_type": "code",
   "execution_count": 11,
   "metadata": {
    "vscode": {
     "languageId": "r"
    }
   },
   "outputs": [
    {
     "name": "stdout",
     "output_type": "stream",
     "text": [
      "[1] \"You're popular!\"\n",
      "[1] 16\n",
      "[1] \"Be more visible!\"\n",
      "[1] 9\n",
      "[1] \"You're popular!\"\n",
      "[1] 13\n",
      "[1] \"Be more visible!\"\n",
      "[1] 5\n",
      "[1] \"Be more visible!\"\n",
      "[1] 2\n",
      "[1] \"You're popular!\"\n",
      "[1] 17\n",
      "[1] \"You're popular!\"\n",
      "[1] 14\n"
     ]
    }
   ],
   "source": [
    "# The linkedin vector has already been defined for you\n",
    "linkedin <- c(16, 9, 13, 5, 2, 17, 14)\n",
    "\n",
    "# Code the for loop with conditionals\n",
    "for (li in linkedin) {\n",
    "  if (li > 10) {\n",
    "    print(\"You're popular!\")\n",
    "    \n",
    "  } else {\n",
    "    print(\"Be more visible!\")\n",
    "  }\n",
    "  print(li)\n",
    "}"
   ]
  },
  {
   "cell_type": "markdown",
   "metadata": {},
   "source": [
    "### `09-Next, you break it`\n",
    "Extend the `for` loop with two new, separate `if` tests as follows:\n",
    "\n",
    "If the vector element's value exceeds 16, print out \"This is ridiculous, I'm outta here!\" and have R abandon the `for` loop (`break`).\n",
    "If the value is lower than 5, print out \"This is too embarrassing!\" and fast-forward to the next iteration (`next`).\n"
   ]
  },
  {
   "cell_type": "code",
   "execution_count": 12,
   "metadata": {
    "vscode": {
     "languageId": "r"
    }
   },
   "outputs": [
    {
     "name": "stdout",
     "output_type": "stream",
     "text": [
      "[1] \"You're popular!\"\n",
      "[1] 16\n",
      "[1] \"Be more visible!\"\n",
      "[1] 9\n",
      "[1] \"You're popular!\"\n",
      "[1] 13\n",
      "[1] \"Be more visible!\"\n",
      "[1] 5\n",
      "[1] \"Be more visible!\"\n",
      "[1] \"This is too embarrassing!\"\n",
      "[1] \"You're popular!\"\n",
      "[1] \"This is ridiculous, I'm outta here!\"\n"
     ]
    }
   ],
   "source": [
    "# The linkedin vector has already been defined for you\n",
    "linkedin <- c(16, 9, 13, 5, 2, 17, 14)\n",
    "\n",
    "# Adapt/extend the for loop\n",
    "for (li in linkedin) {\n",
    "  if (li > 10) {\n",
    "    print(\"You're popular!\")\n",
    "  } else {\n",
    "    print(\"Be more visible!\")\n",
    "  }\n",
    "  \n",
    "  # Add if statement with break\n",
    "  if (li > 16) {\n",
    "    print(\"This is ridiculous, I'm outta here!\")\n",
    "    break\n",
    "  }\n",
    "  \n",
    "  # Add if statement with next\n",
    "  if (li < 5) {\n",
    "    print(\"This is too embarrassing!\")\n",
    "    next\n",
    "  }\n",
    "  \n",
    "  print(li)\n",
    "}"
   ]
  },
  {
   "cell_type": "markdown",
   "metadata": {},
   "source": [
    "### `10-Build a for loop from scratch`\n",
    "- Initialize the variable `rcount`, as 0.\n",
    "- Finish the `for` loop:\n",
    "- if `char` equals `\"r\"`, increase the value of `rcount` by 1.\n",
    "- if `char` equals `\"u\"`, leave the `for` loop entirely with a `break`.\n",
    "- Finally, print out the variable `rcount` to the console to see if your code is correct."
   ]
  },
  {
   "cell_type": "code",
   "execution_count": 13,
   "metadata": {
    "vscode": {
     "languageId": "r"
    }
   },
   "outputs": [
    {
     "data": {
      "text/html": [
       "5"
      ],
      "text/latex": [
       "5"
      ],
      "text/markdown": [
       "5"
      ],
      "text/plain": [
       "[1] 5"
      ]
     },
     "metadata": {},
     "output_type": "display_data"
    }
   ],
   "source": [
    "# Pre-defined variables\n",
    "rquote <- \"r's internals are irrefutably intriguing\"\n",
    "chars <- strsplit(rquote, split = \"\")[[1]]\n",
    "\n",
    "# Initialize rcount\n",
    "rcount <- 0\n",
    "\n",
    "# Finish the for loop\n",
    "for (char in chars) {\n",
    "  if (char == \"r\"){\n",
    "      rcount <- rcount + 1\n",
    "  }\n",
    "\n",
    "  else if (char == \"u\"){\n",
    "      break \n",
    "  }\n",
    "  \n",
    "}\n",
    "\n",
    "# Print out rcount\n",
    "rcount"
   ]
  },
  {
   "cell_type": "markdown",
   "metadata": {},
   "source": [
    "### `The End`"
   ]
  }
 ],
 "metadata": {
  "kernelspec": {
   "display_name": "R",
   "language": "R",
   "name": "ir"
  },
  "language_info": {
   "codemirror_mode": "r",
   "file_extension": ".r",
   "mimetype": "text/x-r-source",
   "name": "R",
   "pygments_lexer": "r",
   "version": "4.2.0"
  },
  "orig_nbformat": 4
 },
 "nbformat": 4,
 "nbformat_minor": 2
}
