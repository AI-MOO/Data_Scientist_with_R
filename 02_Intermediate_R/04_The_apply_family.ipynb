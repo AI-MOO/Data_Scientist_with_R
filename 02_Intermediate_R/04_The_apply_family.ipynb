{
 "cells": [
  {
   "cell_type": "markdown",
   "metadata": {},
   "source": [
    "# Section 04: The apply family\n",
    "### `01-Use lapply with a built-in R function`\n",
    "\n",
    "- Have a look at the strsplit() calls, that splits the strings in `pioneers` on the `:` sign. The result, `split_math` is a list of 4 character vectors: the first vector element represents the name, the second element the birth year.\n",
    "- Use `lapply()` to convert the character vectors in `split_math` to lowercase letters: apply `tolower()` on each of the elements in `split_math`. Assign the result, which is a list, to a new variable `split_low`.\n",
    "- Finally, inspect the contents of `split_low` with `str()`."
   ]
  },
  {
   "cell_type": "code",
   "execution_count": 1,
   "metadata": {
    "vscode": {
     "languageId": "r"
    }
   },
   "outputs": [
    {
     "name": "stdout",
     "output_type": "stream",
     "text": [
      "List of 4\n",
      " $ : chr [1:2] \"gauss\" \"1777\"\n",
      " $ : chr [1:2] \"bayes\" \"1702\"\n",
      " $ : chr [1:2] \"pascal\" \"1623\"\n",
      " $ : chr [1:2] \"pearson\" \"1857\"\n"
     ]
    }
   ],
   "source": [
    "# The vector pioneers has already been created for you\n",
    "pioneers <- c(\"GAUSS:1777\", \"BAYES:1702\", \"PASCAL:1623\", \"PEARSON:1857\")\n",
    "\n",
    "# Split names from birth year\n",
    "split_math <- strsplit(pioneers, split = \":\")\n",
    "\n",
    "# Convert to lowercase strings: split_low\n",
    "split_low <- lapply(split_math, tolower)\n",
    "\n",
    "# Take a look at the structure of split_low\n",
    "str(split_low)"
   ]
  },
  {
   "cell_type": "markdown",
   "metadata": {},
   "source": [
    "### `02-Use lapply with your own function`\n",
    "- Apply `select_first()` over the elements of `split_low` with `lapply()` and assign the result to a new variable `names`.\n",
    "- Next, write a function `select_second()` that does the exact same thing for the second element of an inputted vector.\n",
    "- Finally, apply the `select_second()` function over `split_low` and assign the output to the variable `years`.\n"
   ]
  },
  {
   "cell_type": "code",
   "execution_count": 2,
   "metadata": {
    "vscode": {
     "languageId": "r"
    }
   },
   "outputs": [],
   "source": [
    "# Code from previous exercise:\n",
    "pioneers <- c(\"GAUSS:1777\", \"BAYES:1702\", \"PASCAL:1623\", \"PEARSON:1857\")\n",
    "split <- strsplit(pioneers, split = \":\")\n",
    "split_low <- lapply(split, tolower)\n",
    "\n",
    "# Write function select_first()\n",
    "select_first <- function(x) {\n",
    "  x[1]\n",
    "}\n",
    "\n",
    "# Apply select_first() over split_low: names\n",
    "names <- lapply(split_low, select_first)\n",
    "\n",
    "# Write function select_second()\n",
    "select_second <- function(x) {\n",
    "  x[2]\n",
    "}\n",
    "\n",
    "# Apply select_second() over split_low: years\n",
    "years <- lapply(split_low, select_second)"
   ]
  },
  {
   "cell_type": "markdown",
   "metadata": {},
   "source": [
    "### `03-lapply and anonymous functions`\n",
    "\n",
    "Transform the first call of `lapply()` such that it uses an anonymous function that does the same thing.\n",
    "In a similar fashion, convert the second call of `lapply` to use an anonymous version of the `select_second()` function.\n",
    "Remove both the definitions of `select_first()` and `select_second()`, as they are no longer useful."
   ]
  },
  {
   "cell_type": "code",
   "execution_count": 31,
   "metadata": {
    "vscode": {
     "languageId": "r"
    }
   },
   "outputs": [
    {
     "data": {
      "text/html": [
       "<ol>\n",
       "\t<li><style>\n",
       ".list-inline {list-style: none; margin:0; padding: 0}\n",
       ".list-inline>li {display: inline-block}\n",
       ".list-inline>li:not(:last-child)::after {content: \"\\00b7\"; padding: 0 .5ex}\n",
       "</style>\n",
       "<ol class=list-inline><li>'gauss'</li><li>'1777'</li></ol>\n",
       "</li>\n",
       "\t<li><style>\n",
       ".list-inline {list-style: none; margin:0; padding: 0}\n",
       ".list-inline>li {display: inline-block}\n",
       ".list-inline>li:not(:last-child)::after {content: \"\\00b7\"; padding: 0 .5ex}\n",
       "</style>\n",
       "<ol class=list-inline><li>'bayes'</li><li>'1702'</li></ol>\n",
       "</li>\n",
       "\t<li><style>\n",
       ".list-inline {list-style: none; margin:0; padding: 0}\n",
       ".list-inline>li {display: inline-block}\n",
       ".list-inline>li:not(:last-child)::after {content: \"\\00b7\"; padding: 0 .5ex}\n",
       "</style>\n",
       "<ol class=list-inline><li>'pascal'</li><li>'1623'</li></ol>\n",
       "</li>\n",
       "\t<li><style>\n",
       ".list-inline {list-style: none; margin:0; padding: 0}\n",
       ".list-inline>li {display: inline-block}\n",
       ".list-inline>li:not(:last-child)::after {content: \"\\00b7\"; padding: 0 .5ex}\n",
       "</style>\n",
       "<ol class=list-inline><li>'pearson'</li><li>'1857'</li></ol>\n",
       "</li>\n",
       "</ol>\n"
      ],
      "text/latex": [
       "\\begin{enumerate}\n",
       "\\item \\begin{enumerate*}\n",
       "\\item 'gauss'\n",
       "\\item '1777'\n",
       "\\end{enumerate*}\n",
       "\n",
       "\\item \\begin{enumerate*}\n",
       "\\item 'bayes'\n",
       "\\item '1702'\n",
       "\\end{enumerate*}\n",
       "\n",
       "\\item \\begin{enumerate*}\n",
       "\\item 'pascal'\n",
       "\\item '1623'\n",
       "\\end{enumerate*}\n",
       "\n",
       "\\item \\begin{enumerate*}\n",
       "\\item 'pearson'\n",
       "\\item '1857'\n",
       "\\end{enumerate*}\n",
       "\n",
       "\\end{enumerate}\n"
      ],
      "text/markdown": [
       "1. 1. 'gauss'\n",
       "2. '1777'\n",
       "\n",
       "\n",
       "\n",
       "2. 1. 'bayes'\n",
       "2. '1702'\n",
       "\n",
       "\n",
       "\n",
       "3. 1. 'pascal'\n",
       "2. '1623'\n",
       "\n",
       "\n",
       "\n",
       "4. 1. 'pearson'\n",
       "2. '1857'\n",
       "\n",
       "\n",
       "\n",
       "\n",
       "\n"
      ],
      "text/plain": [
       "[[1]]\n",
       "[1] \"gauss\" \"1777\" \n",
       "\n",
       "[[2]]\n",
       "[1] \"bayes\" \"1702\" \n",
       "\n",
       "[[3]]\n",
       "[1] \"pascal\" \"1623\"  \n",
       "\n",
       "[[4]]\n",
       "[1] \"pearson\" \"1857\"   \n"
      ]
     },
     "metadata": {},
     "output_type": "display_data"
    }
   ],
   "source": [
    "# split_low has been created for you\n",
    "split_low\n",
    "\n",
    "names <- lapply(split_low, function(x) {x[1]})\n",
    "years <- lapply(split_low, function(x) {x[2]})"
   ]
  },
  {
   "cell_type": "markdown",
   "metadata": {},
   "source": [
    "### `04-Use lapply with additional arguments`\n",
    "- Use `lapply()` twice to call `select_el()` over all elements in `split_low`: once with the `index` equal to 1 and a second time with the index equal to 2. Assign the result to `names` and `years`, respectively."
   ]
  },
  {
   "cell_type": "code",
   "execution_count": 1,
   "metadata": {
    "vscode": {
     "languageId": "r"
    }
   },
   "outputs": [],
   "source": [
    "# Definition of split_low\n",
    "pioneers <- c(\"GAUSS:1777\", \"BAYES:1702\", \"PASCAL:1623\", \"PEARSON:1857\")\n",
    "split <- strsplit(pioneers, split = \":\")\n",
    "split_low <- lapply(split, tolower)\n",
    "\n",
    "# Generic select function\n",
    "select_el <- function(x, index) {\n",
    "  x[index]\n",
    "}\n",
    "\n",
    "# Use lapply() twice on split_low: names and years\n",
    "names <- lapply(split_low, select_el, index = 1)\n",
    "years <-lapply(split_low, select_el, index = 2)"
   ]
  },
  {
   "cell_type": "markdown",
   "metadata": {},
   "source": [
    "### `05-Apply functions that return NULL`\n"
   ]
  },
  {
   "cell_type": "code",
   "execution_count": 2,
   "metadata": {
    "vscode": {
     "languageId": "r"
    }
   },
   "outputs": [
    {
     "data": {
      "text/html": [
       "<ol>\n",
       "\t<li>'1777'</li>\n",
       "\t<li>'1702'</li>\n",
       "\t<li>NULL</li>\n",
       "\t<li>NULL</li>\n",
       "</ol>\n"
      ],
      "text/latex": [
       "\\begin{enumerate}\n",
       "\\item '1777'\n",
       "\\item '1702'\n",
       "\\item NULL\n",
       "\\item NULL\n",
       "\\end{enumerate}\n"
      ],
      "text/markdown": [
       "1. '1777'\n",
       "2. '1702'\n",
       "3. NULL\n",
       "4. NULL\n",
       "\n",
       "\n"
      ],
      "text/plain": [
       "[[1]]\n",
       "[1] \"1777\"\n",
       "\n",
       "[[2]]\n",
       "[1] \"1702\"\n",
       "\n",
       "[[3]]\n",
       "NULL\n",
       "\n",
       "[[4]]\n",
       "NULL\n"
      ]
     },
     "metadata": {},
     "output_type": "display_data"
    }
   ],
   "source": [
    "lapply(split_low, function(x) {\n",
    "  if (nchar(x[1]) > 5) {\n",
    "    return(NULL)\n",
    "  } else {\n",
    "    return(x[2])\n",
    "  }\n",
    "})"
   ]
  },
  {
   "cell_type": "markdown",
   "metadata": {},
   "source": [
    "### `06-How to use sapply`\n",
    "\n",
    "- Use `lapply()` to calculate the minimum (built-in function `min()`) of the temperature measurements for every day.\n",
    "- Do the same thing but this time with `sapply()`. See how the output differs.\n",
    "- Use `lapply()` to compute the the maximum (`max()`) temperature for each day.\n",
    "- Again, use `sapply()` to solve the same question and see how `lapply()` and `sapply()` differ."
   ]
  },
  {
   "cell_type": "code",
   "execution_count": 5,
   "metadata": {
    "vscode": {
     "languageId": "r"
    }
   },
   "outputs": [],
   "source": [
    "t1 <- c(3, 7, 9, 6, -1)\n",
    "t2 <- c(6, 9, 12, 13, 5)\n",
    "t3 <- c(4, 8, 3, -1, -3)\n",
    "t4 <- c(1, 4, 7, 2, -2)\n",
    "t5 <- c(5, 7, 9, 4, 2)\n",
    "t6 <- c(-3, 5, 8, 9, 4)\n",
    "t7 <- c(3, 6, 9, 4, 1)\n",
    "\n",
    "temp <- list(t1, t2, t3, t4, t5, t6, t7)"
   ]
  },
  {
   "cell_type": "markdown",
   "metadata": {},
   "source": [
    "- `Note: the result of lapply is a list where sapply is often a vector !`"
   ]
  },
  {
   "cell_type": "code",
   "execution_count": 11,
   "metadata": {
    "vscode": {
     "languageId": "r"
    }
   },
   "outputs": [
    {
     "data": {
      "text/html": [
       "<ol>\n",
       "\t<li>-1</li>\n",
       "\t<li>5</li>\n",
       "\t<li>-3</li>\n",
       "\t<li>-2</li>\n",
       "\t<li>2</li>\n",
       "\t<li>-3</li>\n",
       "\t<li>1</li>\n",
       "</ol>\n"
      ],
      "text/latex": [
       "\\begin{enumerate}\n",
       "\\item -1\n",
       "\\item 5\n",
       "\\item -3\n",
       "\\item -2\n",
       "\\item 2\n",
       "\\item -3\n",
       "\\item 1\n",
       "\\end{enumerate}\n"
      ],
      "text/markdown": [
       "1. -1\n",
       "2. 5\n",
       "3. -3\n",
       "4. -2\n",
       "5. 2\n",
       "6. -3\n",
       "7. 1\n",
       "\n",
       "\n"
      ],
      "text/plain": [
       "[[1]]\n",
       "[1] -1\n",
       "\n",
       "[[2]]\n",
       "[1] 5\n",
       "\n",
       "[[3]]\n",
       "[1] -3\n",
       "\n",
       "[[4]]\n",
       "[1] -2\n",
       "\n",
       "[[5]]\n",
       "[1] 2\n",
       "\n",
       "[[6]]\n",
       "[1] -3\n",
       "\n",
       "[[7]]\n",
       "[1] 1\n"
      ]
     },
     "metadata": {},
     "output_type": "display_data"
    },
    {
     "data": {
      "text/html": [
       "<style>\n",
       ".list-inline {list-style: none; margin:0; padding: 0}\n",
       ".list-inline>li {display: inline-block}\n",
       ".list-inline>li:not(:last-child)::after {content: \"\\00b7\"; padding: 0 .5ex}\n",
       "</style>\n",
       "<ol class=list-inline><li>-1</li><li>5</li><li>-3</li><li>-2</li><li>2</li><li>-3</li><li>1</li></ol>\n"
      ],
      "text/latex": [
       "\\begin{enumerate*}\n",
       "\\item -1\n",
       "\\item 5\n",
       "\\item -3\n",
       "\\item -2\n",
       "\\item 2\n",
       "\\item -3\n",
       "\\item 1\n",
       "\\end{enumerate*}\n"
      ],
      "text/markdown": [
       "1. -1\n",
       "2. 5\n",
       "3. -3\n",
       "4. -2\n",
       "5. 2\n",
       "6. -3\n",
       "7. 1\n",
       "\n",
       "\n"
      ],
      "text/plain": [
       "[1] -1  5 -3 -2  2 -3  1"
      ]
     },
     "metadata": {},
     "output_type": "display_data"
    },
    {
     "data": {
      "text/html": [
       "<ol>\n",
       "\t<li>9</li>\n",
       "\t<li>13</li>\n",
       "\t<li>8</li>\n",
       "\t<li>7</li>\n",
       "\t<li>9</li>\n",
       "\t<li>9</li>\n",
       "\t<li>9</li>\n",
       "</ol>\n"
      ],
      "text/latex": [
       "\\begin{enumerate}\n",
       "\\item 9\n",
       "\\item 13\n",
       "\\item 8\n",
       "\\item 7\n",
       "\\item 9\n",
       "\\item 9\n",
       "\\item 9\n",
       "\\end{enumerate}\n"
      ],
      "text/markdown": [
       "1. 9\n",
       "2. 13\n",
       "3. 8\n",
       "4. 7\n",
       "5. 9\n",
       "6. 9\n",
       "7. 9\n",
       "\n",
       "\n"
      ],
      "text/plain": [
       "[[1]]\n",
       "[1] 9\n",
       "\n",
       "[[2]]\n",
       "[1] 13\n",
       "\n",
       "[[3]]\n",
       "[1] 8\n",
       "\n",
       "[[4]]\n",
       "[1] 7\n",
       "\n",
       "[[5]]\n",
       "[1] 9\n",
       "\n",
       "[[6]]\n",
       "[1] 9\n",
       "\n",
       "[[7]]\n",
       "[1] 9\n"
      ]
     },
     "metadata": {},
     "output_type": "display_data"
    },
    {
     "data": {
      "text/html": [
       "<style>\n",
       ".list-inline {list-style: none; margin:0; padding: 0}\n",
       ".list-inline>li {display: inline-block}\n",
       ".list-inline>li:not(:last-child)::after {content: \"\\00b7\"; padding: 0 .5ex}\n",
       "</style>\n",
       "<ol class=list-inline><li>9</li><li>13</li><li>8</li><li>7</li><li>9</li><li>9</li><li>9</li></ol>\n"
      ],
      "text/latex": [
       "\\begin{enumerate*}\n",
       "\\item 9\n",
       "\\item 13\n",
       "\\item 8\n",
       "\\item 7\n",
       "\\item 9\n",
       "\\item 9\n",
       "\\item 9\n",
       "\\end{enumerate*}\n"
      ],
      "text/markdown": [
       "1. 9\n",
       "2. 13\n",
       "3. 8\n",
       "4. 7\n",
       "5. 9\n",
       "6. 9\n",
       "7. 9\n",
       "\n",
       "\n"
      ],
      "text/plain": [
       "[1]  9 13  8  7  9  9  9"
      ]
     },
     "metadata": {},
     "output_type": "display_data"
    }
   ],
   "source": [
    "# temp has already been defined in the workspace\n",
    "\n",
    "# Use lapply() to find each day's minimum temperature\n",
    "lapply(temp, min)\n",
    "\n",
    "# Use sapply() to find each day's minimum temperature\n",
    "sapply(temp, min)\n",
    "\n",
    "# Use lapply() to find each day's maximum temperature\n",
    "lapply(temp, max)\n",
    "\n",
    "# Use sapply() to find each day's maximum temperature\n",
    "sapply(temp, max)"
   ]
  },
  {
   "cell_type": "markdown",
   "metadata": {},
   "source": [
    "###  `07-sapply with your own function`\n",
    "\n",
    "- Finish the definition of `extremes_avg()`: it takes a vector of temperatures and calculates the average of the minimum and maximum temperatures of the vector.\n",
    "- Next, use this function inside `sapply()` to apply it over the vectors inside `temp`.\n",
    "- Use the same function over `temp` with `lapply()` and see how the outputs differ.\n"
   ]
  },
  {
   "cell_type": "code",
   "execution_count": 12,
   "metadata": {
    "vscode": {
     "languageId": "r"
    }
   },
   "outputs": [
    {
     "data": {
      "text/html": [
       "<style>\n",
       ".list-inline {list-style: none; margin:0; padding: 0}\n",
       ".list-inline>li {display: inline-block}\n",
       ".list-inline>li:not(:last-child)::after {content: \"\\00b7\"; padding: 0 .5ex}\n",
       "</style>\n",
       "<ol class=list-inline><li>4</li><li>9</li><li>2.5</li><li>2.5</li><li>5.5</li><li>3</li><li>5</li></ol>\n"
      ],
      "text/latex": [
       "\\begin{enumerate*}\n",
       "\\item 4\n",
       "\\item 9\n",
       "\\item 2.5\n",
       "\\item 2.5\n",
       "\\item 5.5\n",
       "\\item 3\n",
       "\\item 5\n",
       "\\end{enumerate*}\n"
      ],
      "text/markdown": [
       "1. 4\n",
       "2. 9\n",
       "3. 2.5\n",
       "4. 2.5\n",
       "5. 5.5\n",
       "6. 3\n",
       "7. 5\n",
       "\n",
       "\n"
      ],
      "text/plain": [
       "[1] 4.0 9.0 2.5 2.5 5.5 3.0 5.0"
      ]
     },
     "metadata": {},
     "output_type": "display_data"
    },
    {
     "data": {
      "text/html": [
       "<ol>\n",
       "\t<li>4</li>\n",
       "\t<li>9</li>\n",
       "\t<li>2.5</li>\n",
       "\t<li>2.5</li>\n",
       "\t<li>5.5</li>\n",
       "\t<li>3</li>\n",
       "\t<li>5</li>\n",
       "</ol>\n"
      ],
      "text/latex": [
       "\\begin{enumerate}\n",
       "\\item 4\n",
       "\\item 9\n",
       "\\item 2.5\n",
       "\\item 2.5\n",
       "\\item 5.5\n",
       "\\item 3\n",
       "\\item 5\n",
       "\\end{enumerate}\n"
      ],
      "text/markdown": [
       "1. 4\n",
       "2. 9\n",
       "3. 2.5\n",
       "4. 2.5\n",
       "5. 5.5\n",
       "6. 3\n",
       "7. 5\n",
       "\n",
       "\n"
      ],
      "text/plain": [
       "[[1]]\n",
       "[1] 4\n",
       "\n",
       "[[2]]\n",
       "[1] 9\n",
       "\n",
       "[[3]]\n",
       "[1] 2.5\n",
       "\n",
       "[[4]]\n",
       "[1] 2.5\n",
       "\n",
       "[[5]]\n",
       "[1] 5.5\n",
       "\n",
       "[[6]]\n",
       "[1] 3\n",
       "\n",
       "[[7]]\n",
       "[1] 5\n"
      ]
     },
     "metadata": {},
     "output_type": "display_data"
    }
   ],
   "source": [
    "# temp is already defined in the workspace\n",
    "\n",
    "# Finish function definition of extremes_avg\n",
    "extremes_avg <- function(x) {\n",
    "  ( min(x) + max(x) ) / 2\n",
    "}\n",
    "\n",
    "# Apply extremes_avg() over temp using sapply()\n",
    "sapply(temp, extremes_avg)\n",
    "\n",
    "# Apply extremes_avg() over temp using lapply()\n",
    "lapply(temp, extremes_avg)"
   ]
  },
  {
   "cell_type": "markdown",
   "metadata": {},
   "source": [
    "### `08-sapply with function returning vector`\n",
    "\n",
    "- Finish the definition of the `extremes()` function. It takes a vector of numerical values and returns a vector containing the minimum and maximum values of a given vector, with the names \"min\" and \"max\", respectively.\n",
    "- Apply this function over the vector `temp` using `sapply()`.\n",
    "- Finally, apply this function over the vector `temp` using `lapply()` as well."
   ]
  },
  {
   "cell_type": "code",
   "execution_count": 15,
   "metadata": {
    "vscode": {
     "languageId": "r"
    }
   },
   "outputs": [
    {
     "data": {
      "text/html": [
       "<table class=\"dataframe\">\n",
       "<caption>A matrix: 2 × 7 of type dbl</caption>\n",
       "<tbody>\n",
       "\t<tr><th scope=row>min</th><td>-1</td><td> 5</td><td>-3</td><td>-2</td><td>2</td><td>-3</td><td>1</td></tr>\n",
       "\t<tr><th scope=row>max</th><td> 9</td><td>13</td><td> 8</td><td> 7</td><td>9</td><td> 9</td><td>9</td></tr>\n",
       "</tbody>\n",
       "</table>\n"
      ],
      "text/latex": [
       "A matrix: 2 × 7 of type dbl\n",
       "\\begin{tabular}{r|lllllll}\n",
       "\tmin & -1 &  5 & -3 & -2 & 2 & -3 & 1\\\\\n",
       "\tmax &  9 & 13 &  8 &  7 & 9 &  9 & 9\\\\\n",
       "\\end{tabular}\n"
      ],
      "text/markdown": [
       "\n",
       "A matrix: 2 × 7 of type dbl\n",
       "\n",
       "| min | -1 |  5 | -3 | -2 | 2 | -3 | 1 |\n",
       "| max |  9 | 13 |  8 |  7 | 9 |  9 | 9 |\n",
       "\n"
      ],
      "text/plain": [
       "    [,1] [,2] [,3] [,4] [,5] [,6] [,7]\n",
       "min -1    5   -3   -2   2    -3   1   \n",
       "max  9   13    8    7   9     9   9   "
      ]
     },
     "metadata": {},
     "output_type": "display_data"
    },
    {
     "data": {
      "text/html": [
       "<ol>\n",
       "\t<li><style>\n",
       ".dl-inline {width: auto; margin:0; padding: 0}\n",
       ".dl-inline>dt, .dl-inline>dd {float: none; width: auto; display: inline-block}\n",
       ".dl-inline>dt::after {content: \":\\0020\"; padding-right: .5ex}\n",
       ".dl-inline>dt:not(:first-of-type) {padding-left: .5ex}\n",
       "</style><dl class=dl-inline><dt>min</dt><dd>-1</dd><dt>max</dt><dd>9</dd></dl>\n",
       "</li>\n",
       "\t<li><style>\n",
       ".dl-inline {width: auto; margin:0; padding: 0}\n",
       ".dl-inline>dt, .dl-inline>dd {float: none; width: auto; display: inline-block}\n",
       ".dl-inline>dt::after {content: \":\\0020\"; padding-right: .5ex}\n",
       ".dl-inline>dt:not(:first-of-type) {padding-left: .5ex}\n",
       "</style><dl class=dl-inline><dt>min</dt><dd>5</dd><dt>max</dt><dd>13</dd></dl>\n",
       "</li>\n",
       "\t<li><style>\n",
       ".dl-inline {width: auto; margin:0; padding: 0}\n",
       ".dl-inline>dt, .dl-inline>dd {float: none; width: auto; display: inline-block}\n",
       ".dl-inline>dt::after {content: \":\\0020\"; padding-right: .5ex}\n",
       ".dl-inline>dt:not(:first-of-type) {padding-left: .5ex}\n",
       "</style><dl class=dl-inline><dt>min</dt><dd>-3</dd><dt>max</dt><dd>8</dd></dl>\n",
       "</li>\n",
       "\t<li><style>\n",
       ".dl-inline {width: auto; margin:0; padding: 0}\n",
       ".dl-inline>dt, .dl-inline>dd {float: none; width: auto; display: inline-block}\n",
       ".dl-inline>dt::after {content: \":\\0020\"; padding-right: .5ex}\n",
       ".dl-inline>dt:not(:first-of-type) {padding-left: .5ex}\n",
       "</style><dl class=dl-inline><dt>min</dt><dd>-2</dd><dt>max</dt><dd>7</dd></dl>\n",
       "</li>\n",
       "\t<li><style>\n",
       ".dl-inline {width: auto; margin:0; padding: 0}\n",
       ".dl-inline>dt, .dl-inline>dd {float: none; width: auto; display: inline-block}\n",
       ".dl-inline>dt::after {content: \":\\0020\"; padding-right: .5ex}\n",
       ".dl-inline>dt:not(:first-of-type) {padding-left: .5ex}\n",
       "</style><dl class=dl-inline><dt>min</dt><dd>2</dd><dt>max</dt><dd>9</dd></dl>\n",
       "</li>\n",
       "\t<li><style>\n",
       ".dl-inline {width: auto; margin:0; padding: 0}\n",
       ".dl-inline>dt, .dl-inline>dd {float: none; width: auto; display: inline-block}\n",
       ".dl-inline>dt::after {content: \":\\0020\"; padding-right: .5ex}\n",
       ".dl-inline>dt:not(:first-of-type) {padding-left: .5ex}\n",
       "</style><dl class=dl-inline><dt>min</dt><dd>-3</dd><dt>max</dt><dd>9</dd></dl>\n",
       "</li>\n",
       "\t<li><style>\n",
       ".dl-inline {width: auto; margin:0; padding: 0}\n",
       ".dl-inline>dt, .dl-inline>dd {float: none; width: auto; display: inline-block}\n",
       ".dl-inline>dt::after {content: \":\\0020\"; padding-right: .5ex}\n",
       ".dl-inline>dt:not(:first-of-type) {padding-left: .5ex}\n",
       "</style><dl class=dl-inline><dt>min</dt><dd>1</dd><dt>max</dt><dd>9</dd></dl>\n",
       "</li>\n",
       "</ol>\n"
      ],
      "text/latex": [
       "\\begin{enumerate}\n",
       "\\item \\begin{description*}\n",
       "\\item[min] -1\n",
       "\\item[max] 9\n",
       "\\end{description*}\n",
       "\n",
       "\\item \\begin{description*}\n",
       "\\item[min] 5\n",
       "\\item[max] 13\n",
       "\\end{description*}\n",
       "\n",
       "\\item \\begin{description*}\n",
       "\\item[min] -3\n",
       "\\item[max] 8\n",
       "\\end{description*}\n",
       "\n",
       "\\item \\begin{description*}\n",
       "\\item[min] -2\n",
       "\\item[max] 7\n",
       "\\end{description*}\n",
       "\n",
       "\\item \\begin{description*}\n",
       "\\item[min] 2\n",
       "\\item[max] 9\n",
       "\\end{description*}\n",
       "\n",
       "\\item \\begin{description*}\n",
       "\\item[min] -3\n",
       "\\item[max] 9\n",
       "\\end{description*}\n",
       "\n",
       "\\item \\begin{description*}\n",
       "\\item[min] 1\n",
       "\\item[max] 9\n",
       "\\end{description*}\n",
       "\n",
       "\\end{enumerate}\n"
      ],
      "text/markdown": [
       "1. min\n",
       ":   -1max\n",
       ":   9\n",
       "\n",
       "\n",
       "2. min\n",
       ":   5max\n",
       ":   13\n",
       "\n",
       "\n",
       "3. min\n",
       ":   -3max\n",
       ":   8\n",
       "\n",
       "\n",
       "4. min\n",
       ":   -2max\n",
       ":   7\n",
       "\n",
       "\n",
       "5. min\n",
       ":   2max\n",
       ":   9\n",
       "\n",
       "\n",
       "6. min\n",
       ":   -3max\n",
       ":   9\n",
       "\n",
       "\n",
       "7. min\n",
       ":   1max\n",
       ":   9\n",
       "\n",
       "\n",
       "\n",
       "\n"
      ],
      "text/plain": [
       "[[1]]\n",
       "min max \n",
       " -1   9 \n",
       "\n",
       "[[2]]\n",
       "min max \n",
       "  5  13 \n",
       "\n",
       "[[3]]\n",
       "min max \n",
       " -3   8 \n",
       "\n",
       "[[4]]\n",
       "min max \n",
       " -2   7 \n",
       "\n",
       "[[5]]\n",
       "min max \n",
       "  2   9 \n",
       "\n",
       "[[6]]\n",
       "min max \n",
       " -3   9 \n",
       "\n",
       "[[7]]\n",
       "min max \n",
       "  1   9 \n"
      ]
     },
     "metadata": {},
     "output_type": "display_data"
    }
   ],
   "source": [
    "# temp is already available in the workspace\n",
    "\n",
    "# Create a function that returns min and max of a vector: extremes\n",
    "extremes <- function(x) {\n",
    "  c(min = min(x), max = max(x))\n",
    "}\n",
    "\n",
    "# Apply extremes() over temp with sapply()\n",
    "sapply(temp, extremes)\n",
    "\n",
    "# Apply extremes() over temp with lapply()\n",
    "lapply(temp, extremes)"
   ]
  },
  {
   "cell_type": "markdown",
   "metadata": {},
   "source": [
    "### `09-sapply can't simplify, now what?`\n",
    "\n",
    "- Apply `below_zero()` over `temp` using `sapply()` and store the result in `freezing_s`.\n",
    "- Apply `below_zero()` over `temp` using `lapply()`. Save the resulting list in a variable freezing_l.\n",
    "- Compare `freezing_s` to `freezing_l` using the `identical()` function.\n"
   ]
  },
  {
   "cell_type": "code",
   "execution_count": 16,
   "metadata": {
    "vscode": {
     "languageId": "r"
    }
   },
   "outputs": [
    {
     "data": {
      "text/html": [
       "TRUE"
      ],
      "text/latex": [
       "TRUE"
      ],
      "text/markdown": [
       "TRUE"
      ],
      "text/plain": [
       "[1] TRUE"
      ]
     },
     "metadata": {},
     "output_type": "display_data"
    }
   ],
   "source": [
    "# temp is already prepared for you in the workspace\n",
    "\n",
    "# Definition of below_zero()\n",
    "below_zero <- function(x) {\n",
    "  return(x[x < 0])\n",
    "}\n",
    "\n",
    "# Apply below_zero over temp using sapply(): freezing_s\n",
    "freezing_s <- sapply(temp, below_zero)\n",
    "\n",
    "# Apply below_zero over temp using lapply(): freezing_l\n",
    "freezing_l <- lapply(temp, below_zero)\n",
    "\n",
    "# Are freezing_s and freezing_l identical?\n",
    "identical(freezing_s, freezing_l)"
   ]
  },
  {
   "cell_type": "markdown",
   "metadata": {},
   "source": [
    "### `10-sapply with functions that return NULL`\n",
    "- Apply `print_info()` over the contents of `temp` with `sapply()`.\n",
    "- Repeat this process with `lapply()`. Do you notice the difference?"
   ]
  },
  {
   "cell_type": "code",
   "execution_count": 20,
   "metadata": {
    "vscode": {
     "languageId": "r"
    }
   },
   "outputs": [
    {
     "name": "stdout",
     "output_type": "stream",
     "text": [
      "The average temperature is 4.8 \n",
      "The average temperature is 9 \n",
      "The average temperature is 2.2 \n",
      "The average temperature is 2.4 \n",
      "The average temperature is 5.4 \n",
      "The average temperature is 4.6 \n",
      "The average temperature is 4.6 \n"
     ]
    },
    {
     "data": {
      "text/html": [
       "<ol>\n",
       "\t<li>NULL</li>\n",
       "\t<li>NULL</li>\n",
       "\t<li>NULL</li>\n",
       "\t<li>NULL</li>\n",
       "\t<li>NULL</li>\n",
       "\t<li>NULL</li>\n",
       "\t<li>NULL</li>\n",
       "</ol>\n"
      ],
      "text/latex": [
       "\\begin{enumerate}\n",
       "\\item NULL\n",
       "\\item NULL\n",
       "\\item NULL\n",
       "\\item NULL\n",
       "\\item NULL\n",
       "\\item NULL\n",
       "\\item NULL\n",
       "\\end{enumerate}\n"
      ],
      "text/markdown": [
       "1. NULL\n",
       "2. NULL\n",
       "3. NULL\n",
       "4. NULL\n",
       "5. NULL\n",
       "6. NULL\n",
       "7. NULL\n",
       "\n",
       "\n"
      ],
      "text/plain": [
       "[[1]]\n",
       "NULL\n",
       "\n",
       "[[2]]\n",
       "NULL\n",
       "\n",
       "[[3]]\n",
       "NULL\n",
       "\n",
       "[[4]]\n",
       "NULL\n",
       "\n",
       "[[5]]\n",
       "NULL\n",
       "\n",
       "[[6]]\n",
       "NULL\n",
       "\n",
       "[[7]]\n",
       "NULL\n"
      ]
     },
     "metadata": {},
     "output_type": "display_data"
    },
    {
     "name": "stdout",
     "output_type": "stream",
     "text": [
      "The average temperature is 4.8 \n",
      "The average temperature is 9 \n",
      "The average temperature is 2.2 \n",
      "The average temperature is 2.4 \n",
      "The average temperature is 5.4 \n",
      "The average temperature is 4.6 \n",
      "The average temperature is 4.6 \n"
     ]
    },
    {
     "data": {
      "text/html": [
       "<ol>\n",
       "\t<li>NULL</li>\n",
       "\t<li>NULL</li>\n",
       "\t<li>NULL</li>\n",
       "\t<li>NULL</li>\n",
       "\t<li>NULL</li>\n",
       "\t<li>NULL</li>\n",
       "\t<li>NULL</li>\n",
       "</ol>\n"
      ],
      "text/latex": [
       "\\begin{enumerate}\n",
       "\\item NULL\n",
       "\\item NULL\n",
       "\\item NULL\n",
       "\\item NULL\n",
       "\\item NULL\n",
       "\\item NULL\n",
       "\\item NULL\n",
       "\\end{enumerate}\n"
      ],
      "text/markdown": [
       "1. NULL\n",
       "2. NULL\n",
       "3. NULL\n",
       "4. NULL\n",
       "5. NULL\n",
       "6. NULL\n",
       "7. NULL\n",
       "\n",
       "\n"
      ],
      "text/plain": [
       "[[1]]\n",
       "NULL\n",
       "\n",
       "[[2]]\n",
       "NULL\n",
       "\n",
       "[[3]]\n",
       "NULL\n",
       "\n",
       "[[4]]\n",
       "NULL\n",
       "\n",
       "[[5]]\n",
       "NULL\n",
       "\n",
       "[[6]]\n",
       "NULL\n",
       "\n",
       "[[7]]\n",
       "NULL\n"
      ]
     },
     "metadata": {},
     "output_type": "display_data"
    }
   ],
   "source": [
    "# temp is already available in the workspace\n",
    "\n",
    "# Definition of print_info()\n",
    "print_info <- function(x) {\n",
    "  cat(\"The average temperature is\", mean(x), \"\\n\")\n",
    "}\n",
    "\n",
    "# Apply print_info() over temp using sapply()\n",
    "sapply(temp, print_info)\n",
    "\n",
    "# Apply print_info() over temp using lapply()\n",
    "lapply(temp, print_info)\n"
   ]
  },
  {
   "cell_type": "markdown",
   "metadata": {},
   "source": [
    "### `11-Use vapply`\n",
    "- Apply the function `basics()` over the list of temperatures, `temp`, using `vapply()`. This time, you can use `numeric(3)` to specify the `FUN.VALUE` argument."
   ]
  },
  {
   "cell_type": "code",
   "execution_count": 21,
   "metadata": {
    "vscode": {
     "languageId": "r"
    }
   },
   "outputs": [
    {
     "data": {
      "text/html": [
       "<table class=\"dataframe\">\n",
       "<caption>A matrix: 3 × 7 of type dbl</caption>\n",
       "<tbody>\n",
       "\t<tr><th scope=row>min</th><td>-1.0</td><td> 5</td><td>-3.0</td><td>-2.0</td><td>2.0</td><td>-3.0</td><td>1.0</td></tr>\n",
       "\t<tr><th scope=row>mean</th><td> 4.8</td><td> 9</td><td> 2.2</td><td> 2.4</td><td>5.4</td><td> 4.6</td><td>4.6</td></tr>\n",
       "\t<tr><th scope=row>max</th><td> 9.0</td><td>13</td><td> 8.0</td><td> 7.0</td><td>9.0</td><td> 9.0</td><td>9.0</td></tr>\n",
       "</tbody>\n",
       "</table>\n"
      ],
      "text/latex": [
       "A matrix: 3 × 7 of type dbl\n",
       "\\begin{tabular}{r|lllllll}\n",
       "\tmin & -1.0 &  5 & -3.0 & -2.0 & 2.0 & -3.0 & 1.0\\\\\n",
       "\tmean &  4.8 &  9 &  2.2 &  2.4 & 5.4 &  4.6 & 4.6\\\\\n",
       "\tmax &  9.0 & 13 &  8.0 &  7.0 & 9.0 &  9.0 & 9.0\\\\\n",
       "\\end{tabular}\n"
      ],
      "text/markdown": [
       "\n",
       "A matrix: 3 × 7 of type dbl\n",
       "\n",
       "| min | -1.0 |  5 | -3.0 | -2.0 | 2.0 | -3.0 | 1.0 |\n",
       "| mean |  4.8 |  9 |  2.2 |  2.4 | 5.4 |  4.6 | 4.6 |\n",
       "| max |  9.0 | 13 |  8.0 |  7.0 | 9.0 |  9.0 | 9.0 |\n",
       "\n"
      ],
      "text/plain": [
       "     [,1] [,2] [,3] [,4] [,5] [,6] [,7]\n",
       "min  -1.0  5   -3.0 -2.0 2.0  -3.0 1.0 \n",
       "mean  4.8  9    2.2  2.4 5.4   4.6 4.6 \n",
       "max   9.0 13    8.0  7.0 9.0   9.0 9.0 "
      ]
     },
     "metadata": {},
     "output_type": "display_data"
    }
   ],
   "source": [
    "# temp is already available in the workspace\n",
    "\n",
    "# Definition of basics()\n",
    "basics <- function(x) {\n",
    "  c(min = min(x), mean = mean(x), max = max(x))\n",
    "}\n",
    "\n",
    "# Apply basics() over temp using vapply()\n",
    "vapply(temp, basics, numeric(3))"
   ]
  },
  {
   "cell_type": "markdown",
   "metadata": {},
   "source": [
    "### `12-Use vapply (2)`\n",
    "- Inspect the pre-loaded code and try to run it. If you haven't changed anything, an error should pop up. That's because `vapply()` still expects `basics()` to return a vector of length 3. The error message gives you an indication of what's wrong.\n",
    "- Try to fix the error by editing the `vapply()` command."
   ]
  },
  {
   "cell_type": "code",
   "execution_count": 22,
   "metadata": {
    "vscode": {
     "languageId": "r"
    }
   },
   "outputs": [
    {
     "data": {
      "text/html": [
       "<table class=\"dataframe\">\n",
       "<caption>A matrix: 4 × 7 of type dbl</caption>\n",
       "<tbody>\n",
       "\t<tr><th scope=row>min</th><td>-1.0</td><td> 5</td><td>-3.0</td><td>-2.0</td><td>2.0</td><td>-3.0</td><td>1.0</td></tr>\n",
       "\t<tr><th scope=row>mean</th><td> 4.8</td><td> 9</td><td> 2.2</td><td> 2.4</td><td>5.4</td><td> 4.6</td><td>4.6</td></tr>\n",
       "\t<tr><th scope=row>median</th><td> 6.0</td><td> 9</td><td> 3.0</td><td> 2.0</td><td>5.0</td><td> 5.0</td><td>4.0</td></tr>\n",
       "\t<tr><th scope=row>max</th><td> 9.0</td><td>13</td><td> 8.0</td><td> 7.0</td><td>9.0</td><td> 9.0</td><td>9.0</td></tr>\n",
       "</tbody>\n",
       "</table>\n"
      ],
      "text/latex": [
       "A matrix: 4 × 7 of type dbl\n",
       "\\begin{tabular}{r|lllllll}\n",
       "\tmin & -1.0 &  5 & -3.0 & -2.0 & 2.0 & -3.0 & 1.0\\\\\n",
       "\tmean &  4.8 &  9 &  2.2 &  2.4 & 5.4 &  4.6 & 4.6\\\\\n",
       "\tmedian &  6.0 &  9 &  3.0 &  2.0 & 5.0 &  5.0 & 4.0\\\\\n",
       "\tmax &  9.0 & 13 &  8.0 &  7.0 & 9.0 &  9.0 & 9.0\\\\\n",
       "\\end{tabular}\n"
      ],
      "text/markdown": [
       "\n",
       "A matrix: 4 × 7 of type dbl\n",
       "\n",
       "| min | -1.0 |  5 | -3.0 | -2.0 | 2.0 | -3.0 | 1.0 |\n",
       "| mean |  4.8 |  9 |  2.2 |  2.4 | 5.4 |  4.6 | 4.6 |\n",
       "| median |  6.0 |  9 |  3.0 |  2.0 | 5.0 |  5.0 | 4.0 |\n",
       "| max |  9.0 | 13 |  8.0 |  7.0 | 9.0 |  9.0 | 9.0 |\n",
       "\n"
      ],
      "text/plain": [
       "       [,1] [,2] [,3] [,4] [,5] [,6] [,7]\n",
       "min    -1.0  5   -3.0 -2.0 2.0  -3.0 1.0 \n",
       "mean    4.8  9    2.2  2.4 5.4   4.6 4.6 \n",
       "median  6.0  9    3.0  2.0 5.0   5.0 4.0 \n",
       "max     9.0 13    8.0  7.0 9.0   9.0 9.0 "
      ]
     },
     "metadata": {},
     "output_type": "display_data"
    }
   ],
   "source": [
    "# temp is already available in the workspace\n",
    "\n",
    "# Definition of the basics() function\n",
    "basics <- function(x) {\n",
    "  c(min = min(x), mean = mean(x), median = median(x), max = max(x))\n",
    "}\n",
    "\n",
    "# Fix the error:\n",
    "vapply(temp, basics, numeric(4))"
   ]
  },
  {
   "cell_type": "markdown",
   "metadata": {},
   "source": [
    "### `13-From sapply to vapply`\n",
    "\n",
    "Convert all the `sapply()` expressions on the right to their `vapply()` counterparts. Their results should be exactly the same; you're only adding robustness. You'll need the templates `numeric(1)` and `logical(1)`."
   ]
  },
  {
   "cell_type": "code",
   "execution_count": 24,
   "metadata": {
    "vscode": {
     "languageId": "r"
    }
   },
   "outputs": [
    {
     "data": {
      "text/html": [
       "<style>\n",
       ".list-inline {list-style: none; margin:0; padding: 0}\n",
       ".list-inline>li {display: inline-block}\n",
       ".list-inline>li:not(:last-child)::after {content: \"\\00b7\"; padding: 0 .5ex}\n",
       "</style>\n",
       "<ol class=list-inline><li>9</li><li>13</li><li>8</li><li>7</li><li>9</li><li>9</li><li>9</li></ol>\n"
      ],
      "text/latex": [
       "\\begin{enumerate*}\n",
       "\\item 9\n",
       "\\item 13\n",
       "\\item 8\n",
       "\\item 7\n",
       "\\item 9\n",
       "\\item 9\n",
       "\\item 9\n",
       "\\end{enumerate*}\n"
      ],
      "text/markdown": [
       "1. 9\n",
       "2. 13\n",
       "3. 8\n",
       "4. 7\n",
       "5. 9\n",
       "6. 9\n",
       "7. 9\n",
       "\n",
       "\n"
      ],
      "text/plain": [
       "[1]  9 13  8  7  9  9  9"
      ]
     },
     "metadata": {},
     "output_type": "display_data"
    },
    {
     "data": {
      "text/html": [
       "<style>\n",
       ".list-inline {list-style: none; margin:0; padding: 0}\n",
       ".list-inline>li {display: inline-block}\n",
       ".list-inline>li:not(:last-child)::after {content: \"\\00b7\"; padding: 0 .5ex}\n",
       "</style>\n",
       "<ol class=list-inline><li>FALSE</li><li>TRUE</li><li>FALSE</li><li>FALSE</li><li>TRUE</li><li>FALSE</li><li>FALSE</li></ol>\n"
      ],
      "text/latex": [
       "\\begin{enumerate*}\n",
       "\\item FALSE\n",
       "\\item TRUE\n",
       "\\item FALSE\n",
       "\\item FALSE\n",
       "\\item TRUE\n",
       "\\item FALSE\n",
       "\\item FALSE\n",
       "\\end{enumerate*}\n"
      ],
      "text/markdown": [
       "1. FALSE\n",
       "2. TRUE\n",
       "3. FALSE\n",
       "4. FALSE\n",
       "5. TRUE\n",
       "6. FALSE\n",
       "7. FALSE\n",
       "\n",
       "\n"
      ],
      "text/plain": [
       "[1] FALSE  TRUE FALSE FALSE  TRUE FALSE FALSE"
      ]
     },
     "metadata": {},
     "output_type": "display_data"
    }
   ],
   "source": [
    "# temp is already defined in the workspace\n",
    "\n",
    "# Convert to vapply() expression\n",
    "vapply(temp, max, numeric(1))\n",
    "\n",
    "# Convert to vapply() expression\n",
    "vapply(temp, function(x, y) { mean(x) > y }, y = 5, logical(1))"
   ]
  },
  {
   "cell_type": "code",
   "execution_count": 23,
   "metadata": {
    "vscode": {
     "languageId": "r"
    }
   },
   "outputs": [
    {
     "data": {
      "text/html": [
       "<style>\n",
       ".list-inline {list-style: none; margin:0; padding: 0}\n",
       ".list-inline>li {display: inline-block}\n",
       ".list-inline>li:not(:last-child)::after {content: \"\\00b7\"; padding: 0 .5ex}\n",
       "</style>\n",
       "<ol class=list-inline><li>9</li><li>13</li><li>8</li><li>7</li><li>9</li><li>9</li><li>9</li></ol>\n"
      ],
      "text/latex": [
       "\\begin{enumerate*}\n",
       "\\item 9\n",
       "\\item 13\n",
       "\\item 8\n",
       "\\item 7\n",
       "\\item 9\n",
       "\\item 9\n",
       "\\item 9\n",
       "\\end{enumerate*}\n"
      ],
      "text/markdown": [
       "1. 9\n",
       "2. 13\n",
       "3. 8\n",
       "4. 7\n",
       "5. 9\n",
       "6. 9\n",
       "7. 9\n",
       "\n",
       "\n"
      ],
      "text/plain": [
       "[1]  9 13  8  7  9  9  9"
      ]
     },
     "metadata": {},
     "output_type": "display_data"
    },
    {
     "data": {
      "text/html": [
       "<style>\n",
       ".list-inline {list-style: none; margin:0; padding: 0}\n",
       ".list-inline>li {display: inline-block}\n",
       ".list-inline>li:not(:last-child)::after {content: \"\\00b7\"; padding: 0 .5ex}\n",
       "</style>\n",
       "<ol class=list-inline><li>FALSE</li><li>TRUE</li><li>FALSE</li><li>FALSE</li><li>TRUE</li><li>FALSE</li><li>FALSE</li></ol>\n"
      ],
      "text/latex": [
       "\\begin{enumerate*}\n",
       "\\item FALSE\n",
       "\\item TRUE\n",
       "\\item FALSE\n",
       "\\item FALSE\n",
       "\\item TRUE\n",
       "\\item FALSE\n",
       "\\item FALSE\n",
       "\\end{enumerate*}\n"
      ],
      "text/markdown": [
       "1. FALSE\n",
       "2. TRUE\n",
       "3. FALSE\n",
       "4. FALSE\n",
       "5. TRUE\n",
       "6. FALSE\n",
       "7. FALSE\n",
       "\n",
       "\n"
      ],
      "text/plain": [
       "[1] FALSE  TRUE FALSE FALSE  TRUE FALSE FALSE"
      ]
     },
     "metadata": {},
     "output_type": "display_data"
    }
   ],
   "source": [
    "# temp is already defined in the workspace\n",
    "\n",
    "# Convert to vapply() expression\n",
    "vapply(temp, max, numeric(1))\n",
    "\n",
    "# Convert to vapply() expression\n",
    "vapply(temp, function(x, y) { mean(x) > y }, y = 5, logical(1))"
   ]
  },
  {
   "cell_type": "markdown",
   "metadata": {},
   "source": [
    "### `The End`"
   ]
  }
 ],
 "metadata": {
  "kernelspec": {
   "display_name": "R",
   "language": "R",
   "name": "ir"
  },
  "language_info": {
   "codemirror_mode": "r",
   "file_extension": ".r",
   "mimetype": "text/x-r-source",
   "name": "R",
   "pygments_lexer": "r",
   "version": "4.2.0"
  },
  "orig_nbformat": 4
 },
 "nbformat": 4,
 "nbformat_minor": 2
}
