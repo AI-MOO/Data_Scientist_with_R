{
 "cells": [
  {
   "cell_type": "markdown",
   "metadata": {},
   "source": [
    "# Section 04: Case Study: The babynames Dataset\n",
    "### `01-Filtering and arranging for one year`\n",
    "- Filter for only the year 1990.\n",
    "- Sort the table in descending order of the number of babies born.\n"
   ]
  },
  {
   "cell_type": "code",
   "execution_count": 1,
   "metadata": {
    "vscode": {
     "languageId": "r"
    }
   },
   "outputs": [
    {
     "name": "stderr",
     "output_type": "stream",
     "text": [
      "Installing package into 'C:/Users/mosman/AppData/Local/R/win-library/4.2'\n",
      "(as 'lib' is unspecified)\n",
      "\n"
     ]
    },
    {
     "name": "stdout",
     "output_type": "stream",
     "text": [
      "package 'babynames' successfully unpacked and MD5 sums checked\n",
      "\n",
      "The downloaded binary packages are in\n",
      "\tC:\\Users\\mosman\\AppData\\Local\\Temp\\RtmpKklJdE\\downloaded_packages\n"
     ]
    }
   ],
   "source": [
    "install.packages(\"babynames\")"
   ]
  },
  {
   "cell_type": "code",
   "execution_count": 8,
   "metadata": {
    "vscode": {
     "languageId": "r"
    }
   },
   "outputs": [
    {
     "name": "stderr",
     "output_type": "stream",
     "text": [
      "\n",
      "Attaching package: 'dplyr'\n",
      "\n",
      "\n",
      "The following objects are masked from 'package:stats':\n",
      "\n",
      "    filter, lag\n",
      "\n",
      "\n",
      "The following objects are masked from 'package:base':\n",
      "\n",
      "    intersect, setdiff, setequal, union\n",
      "\n",
      "\n"
     ]
    }
   ],
   "source": [
    "library(babynames)\n",
    "library(dplyr)"
   ]
  },
  {
   "cell_type": "code",
   "execution_count": 9,
   "metadata": {
    "vscode": {
     "languageId": "r"
    }
   },
   "outputs": [],
   "source": [
    "babynames <- babynames %>%\n",
    "    rename(number = n)"
   ]
  },
  {
   "cell_type": "code",
   "execution_count": 10,
   "metadata": {
    "vscode": {
     "languageId": "r"
    }
   },
   "outputs": [
    {
     "data": {
      "text/html": [
       "<table class=\"dataframe\">\n",
       "<caption>A tibble: 24719 × 5</caption>\n",
       "<thead>\n",
       "\t<tr><th scope=col>year</th><th scope=col>sex</th><th scope=col>name</th><th scope=col>number</th><th scope=col>prop</th></tr>\n",
       "\t<tr><th scope=col>&lt;dbl&gt;</th><th scope=col>&lt;chr&gt;</th><th scope=col>&lt;chr&gt;</th><th scope=col>&lt;int&gt;</th><th scope=col>&lt;dbl&gt;</th></tr>\n",
       "</thead>\n",
       "<tbody>\n",
       "\t<tr><td>1990</td><td>M</td><td>Michael    </td><td>65282</td><td>0.03034735</td></tr>\n",
       "\t<tr><td>1990</td><td>M</td><td>Christopher</td><td>52332</td><td>0.02432734</td></tr>\n",
       "\t<tr><td>1990</td><td>F</td><td>Jessica    </td><td>46475</td><td>0.02262700</td></tr>\n",
       "\t<tr><td>1990</td><td>F</td><td>Ashley     </td><td>45558</td><td>0.02218055</td></tr>\n",
       "\t<tr><td>1990</td><td>M</td><td>Matthew    </td><td>44800</td><td>0.02082597</td></tr>\n",
       "\t<tr><td>1990</td><td>M</td><td>Joshua     </td><td>43216</td><td>0.02008963</td></tr>\n",
       "\t<tr><td>1990</td><td>F</td><td>Brittany   </td><td>36538</td><td>0.01778903</td></tr>\n",
       "\t<tr><td>1990</td><td>F</td><td>Amanda     </td><td>34408</td><td>0.01675201</td></tr>\n",
       "\t<tr><td>1990</td><td>M</td><td>Daniel     </td><td>33815</td><td>0.01571943</td></tr>\n",
       "\t<tr><td>1990</td><td>M</td><td>David      </td><td>33742</td><td>0.01568549</td></tr>\n",
       "\t<tr><td>1990</td><td>M</td><td>Andrew     </td><td>33657</td><td>0.01564598</td></tr>\n",
       "\t<tr><td>1990</td><td>M</td><td>James      </td><td>32347</td><td>0.01503700</td></tr>\n",
       "\t<tr><td>1990</td><td>M</td><td>Justin     </td><td>30638</td><td>0.01424255</td></tr>\n",
       "\t<tr><td>1990</td><td>M</td><td>Joseph     </td><td>30127</td><td>0.01400500</td></tr>\n",
       "\t<tr><td>1990</td><td>M</td><td>Ryan       </td><td>29248</td><td>0.01359639</td></tr>\n",
       "\t<tr><td>1990</td><td>M</td><td>John       </td><td>29073</td><td>0.01351503</td></tr>\n",
       "\t<tr><td>1990</td><td>M</td><td>Robert     </td><td>28871</td><td>0.01342113</td></tr>\n",
       "\t<tr><td>1990</td><td>M</td><td>Nicholas   </td><td>27900</td><td>0.01296975</td></tr>\n",
       "\t<tr><td>1990</td><td>F</td><td>Samantha   </td><td>25866</td><td>0.01259322</td></tr>\n",
       "\t<tr><td>1990</td><td>F</td><td>Sarah      </td><td>25816</td><td>0.01256888</td></tr>\n",
       "\t<tr><td>1990</td><td>M</td><td>Anthony    </td><td>25075</td><td>0.01165650</td></tr>\n",
       "\t<tr><td>1990</td><td>M</td><td>William    </td><td>24892</td><td>0.01157143</td></tr>\n",
       "\t<tr><td>1990</td><td>F</td><td>Stephanie  </td><td>24861</td><td>0.01210392</td></tr>\n",
       "\t<tr><td>1990</td><td>M</td><td>Jonathan   </td><td>24074</td><td>0.01119117</td></tr>\n",
       "\t<tr><td>1990</td><td>M</td><td>Kyle       </td><td>22700</td><td>0.01055245</td></tr>\n",
       "\t<tr><td>1990</td><td>F</td><td>Jennifer   </td><td>22226</td><td>0.01082104</td></tr>\n",
       "\t<tr><td>1990</td><td>M</td><td>Brandon    </td><td>22159</td><td>0.01030095</td></tr>\n",
       "\t<tr><td>1990</td><td>M</td><td>Jacob      </td><td>22010</td><td>0.01023169</td></tr>\n",
       "\t<tr><td>1990</td><td>F</td><td>Elizabeth  </td><td>20744</td><td>0.01009951</td></tr>\n",
       "\t<tr><td>1990</td><td>M</td><td>Tyler      </td><td>20634</td><td>0.00959203</td></tr>\n",
       "\t<tr><td>⋮</td><td>⋮</td><td>⋮</td><td>⋮</td><td>⋮</td></tr>\n",
       "\t<tr><td>1990</td><td>M</td><td>Yarden   </td><td>5</td><td>2.32e-06</td></tr>\n",
       "\t<tr><td>1990</td><td>M</td><td>Yardley  </td><td>5</td><td>2.32e-06</td></tr>\n",
       "\t<tr><td>1990</td><td>M</td><td>Yeshayahu</td><td>5</td><td>2.32e-06</td></tr>\n",
       "\t<tr><td>1990</td><td>M</td><td>Yiannis  </td><td>5</td><td>2.32e-06</td></tr>\n",
       "\t<tr><td>1990</td><td>M</td><td>Yishai   </td><td>5</td><td>2.32e-06</td></tr>\n",
       "\t<tr><td>1990</td><td>M</td><td>Yitzhak  </td><td>5</td><td>2.32e-06</td></tr>\n",
       "\t<tr><td>1990</td><td>M</td><td>Yochanan </td><td>5</td><td>2.32e-06</td></tr>\n",
       "\t<tr><td>1990</td><td>M</td><td>Yoon     </td><td>5</td><td>2.32e-06</td></tr>\n",
       "\t<tr><td>1990</td><td>M</td><td>Yoshiki  </td><td>5</td><td>2.32e-06</td></tr>\n",
       "\t<tr><td>1990</td><td>M</td><td>Yuya     </td><td>5</td><td>2.32e-06</td></tr>\n",
       "\t<tr><td>1990</td><td>M</td><td>Yvette   </td><td>5</td><td>2.32e-06</td></tr>\n",
       "\t<tr><td>1990</td><td>M</td><td>Yvonne   </td><td>5</td><td>2.32e-06</td></tr>\n",
       "\t<tr><td>1990</td><td>M</td><td>Zaccaria </td><td>5</td><td>2.32e-06</td></tr>\n",
       "\t<tr><td>1990</td><td>M</td><td>Zacery   </td><td>5</td><td>2.32e-06</td></tr>\n",
       "\t<tr><td>1990</td><td>M</td><td>Zachaery </td><td>5</td><td>2.32e-06</td></tr>\n",
       "\t<tr><td>1990</td><td>M</td><td>Zafir    </td><td>5</td><td>2.32e-06</td></tr>\n",
       "\t<tr><td>1990</td><td>M</td><td>Zaher    </td><td>5</td><td>2.32e-06</td></tr>\n",
       "\t<tr><td>1990</td><td>M</td><td>Zahid    </td><td>5</td><td>2.32e-06</td></tr>\n",
       "\t<tr><td>1990</td><td>M</td><td>Zakir    </td><td>5</td><td>2.32e-06</td></tr>\n",
       "\t<tr><td>1990</td><td>M</td><td>Zamar    </td><td>5</td><td>2.32e-06</td></tr>\n",
       "\t<tr><td>1990</td><td>M</td><td>Zan      </td><td>5</td><td>2.32e-06</td></tr>\n",
       "\t<tr><td>1990</td><td>M</td><td>Zander   </td><td>5</td><td>2.32e-06</td></tr>\n",
       "\t<tr><td>1990</td><td>M</td><td>Zedekiah </td><td>5</td><td>2.32e-06</td></tr>\n",
       "\t<tr><td>1990</td><td>M</td><td>Zephan   </td><td>5</td><td>2.32e-06</td></tr>\n",
       "\t<tr><td>1990</td><td>M</td><td>Zerick   </td><td>5</td><td>2.32e-06</td></tr>\n",
       "\t<tr><td>1990</td><td>M</td><td>Zeus     </td><td>5</td><td>2.32e-06</td></tr>\n",
       "\t<tr><td>1990</td><td>M</td><td>Ziyad    </td><td>5</td><td>2.32e-06</td></tr>\n",
       "\t<tr><td>1990</td><td>M</td><td>Zoilo    </td><td>5</td><td>2.32e-06</td></tr>\n",
       "\t<tr><td>1990</td><td>M</td><td>Zoran    </td><td>5</td><td>2.32e-06</td></tr>\n",
       "\t<tr><td>1990</td><td>M</td><td>Zvi      </td><td>5</td><td>2.32e-06</td></tr>\n",
       "</tbody>\n",
       "</table>\n"
      ],
      "text/latex": [
       "A tibble: 24719 × 5\n",
       "\\begin{tabular}{lllll}\n",
       " year & sex & name & number & prop\\\\\n",
       " <dbl> & <chr> & <chr> & <int> & <dbl>\\\\\n",
       "\\hline\n",
       "\t 1990 & M & Michael     & 65282 & 0.03034735\\\\\n",
       "\t 1990 & M & Christopher & 52332 & 0.02432734\\\\\n",
       "\t 1990 & F & Jessica     & 46475 & 0.02262700\\\\\n",
       "\t 1990 & F & Ashley      & 45558 & 0.02218055\\\\\n",
       "\t 1990 & M & Matthew     & 44800 & 0.02082597\\\\\n",
       "\t 1990 & M & Joshua      & 43216 & 0.02008963\\\\\n",
       "\t 1990 & F & Brittany    & 36538 & 0.01778903\\\\\n",
       "\t 1990 & F & Amanda      & 34408 & 0.01675201\\\\\n",
       "\t 1990 & M & Daniel      & 33815 & 0.01571943\\\\\n",
       "\t 1990 & M & David       & 33742 & 0.01568549\\\\\n",
       "\t 1990 & M & Andrew      & 33657 & 0.01564598\\\\\n",
       "\t 1990 & M & James       & 32347 & 0.01503700\\\\\n",
       "\t 1990 & M & Justin      & 30638 & 0.01424255\\\\\n",
       "\t 1990 & M & Joseph      & 30127 & 0.01400500\\\\\n",
       "\t 1990 & M & Ryan        & 29248 & 0.01359639\\\\\n",
       "\t 1990 & M & John        & 29073 & 0.01351503\\\\\n",
       "\t 1990 & M & Robert      & 28871 & 0.01342113\\\\\n",
       "\t 1990 & M & Nicholas    & 27900 & 0.01296975\\\\\n",
       "\t 1990 & F & Samantha    & 25866 & 0.01259322\\\\\n",
       "\t 1990 & F & Sarah       & 25816 & 0.01256888\\\\\n",
       "\t 1990 & M & Anthony     & 25075 & 0.01165650\\\\\n",
       "\t 1990 & M & William     & 24892 & 0.01157143\\\\\n",
       "\t 1990 & F & Stephanie   & 24861 & 0.01210392\\\\\n",
       "\t 1990 & M & Jonathan    & 24074 & 0.01119117\\\\\n",
       "\t 1990 & M & Kyle        & 22700 & 0.01055245\\\\\n",
       "\t 1990 & F & Jennifer    & 22226 & 0.01082104\\\\\n",
       "\t 1990 & M & Brandon     & 22159 & 0.01030095\\\\\n",
       "\t 1990 & M & Jacob       & 22010 & 0.01023169\\\\\n",
       "\t 1990 & F & Elizabeth   & 20744 & 0.01009951\\\\\n",
       "\t 1990 & M & Tyler       & 20634 & 0.00959203\\\\\n",
       "\t ⋮ & ⋮ & ⋮ & ⋮ & ⋮\\\\\n",
       "\t 1990 & M & Yarden    & 5 & 2.32e-06\\\\\n",
       "\t 1990 & M & Yardley   & 5 & 2.32e-06\\\\\n",
       "\t 1990 & M & Yeshayahu & 5 & 2.32e-06\\\\\n",
       "\t 1990 & M & Yiannis   & 5 & 2.32e-06\\\\\n",
       "\t 1990 & M & Yishai    & 5 & 2.32e-06\\\\\n",
       "\t 1990 & M & Yitzhak   & 5 & 2.32e-06\\\\\n",
       "\t 1990 & M & Yochanan  & 5 & 2.32e-06\\\\\n",
       "\t 1990 & M & Yoon      & 5 & 2.32e-06\\\\\n",
       "\t 1990 & M & Yoshiki   & 5 & 2.32e-06\\\\\n",
       "\t 1990 & M & Yuya      & 5 & 2.32e-06\\\\\n",
       "\t 1990 & M & Yvette    & 5 & 2.32e-06\\\\\n",
       "\t 1990 & M & Yvonne    & 5 & 2.32e-06\\\\\n",
       "\t 1990 & M & Zaccaria  & 5 & 2.32e-06\\\\\n",
       "\t 1990 & M & Zacery    & 5 & 2.32e-06\\\\\n",
       "\t 1990 & M & Zachaery  & 5 & 2.32e-06\\\\\n",
       "\t 1990 & M & Zafir     & 5 & 2.32e-06\\\\\n",
       "\t 1990 & M & Zaher     & 5 & 2.32e-06\\\\\n",
       "\t 1990 & M & Zahid     & 5 & 2.32e-06\\\\\n",
       "\t 1990 & M & Zakir     & 5 & 2.32e-06\\\\\n",
       "\t 1990 & M & Zamar     & 5 & 2.32e-06\\\\\n",
       "\t 1990 & M & Zan       & 5 & 2.32e-06\\\\\n",
       "\t 1990 & M & Zander    & 5 & 2.32e-06\\\\\n",
       "\t 1990 & M & Zedekiah  & 5 & 2.32e-06\\\\\n",
       "\t 1990 & M & Zephan    & 5 & 2.32e-06\\\\\n",
       "\t 1990 & M & Zerick    & 5 & 2.32e-06\\\\\n",
       "\t 1990 & M & Zeus      & 5 & 2.32e-06\\\\\n",
       "\t 1990 & M & Ziyad     & 5 & 2.32e-06\\\\\n",
       "\t 1990 & M & Zoilo     & 5 & 2.32e-06\\\\\n",
       "\t 1990 & M & Zoran     & 5 & 2.32e-06\\\\\n",
       "\t 1990 & M & Zvi       & 5 & 2.32e-06\\\\\n",
       "\\end{tabular}\n"
      ],
      "text/markdown": [
       "\n",
       "A tibble: 24719 × 5\n",
       "\n",
       "| year &lt;dbl&gt; | sex &lt;chr&gt; | name &lt;chr&gt; | number &lt;int&gt; | prop &lt;dbl&gt; |\n",
       "|---|---|---|---|---|\n",
       "| 1990 | M | Michael     | 65282 | 0.03034735 |\n",
       "| 1990 | M | Christopher | 52332 | 0.02432734 |\n",
       "| 1990 | F | Jessica     | 46475 | 0.02262700 |\n",
       "| 1990 | F | Ashley      | 45558 | 0.02218055 |\n",
       "| 1990 | M | Matthew     | 44800 | 0.02082597 |\n",
       "| 1990 | M | Joshua      | 43216 | 0.02008963 |\n",
       "| 1990 | F | Brittany    | 36538 | 0.01778903 |\n",
       "| 1990 | F | Amanda      | 34408 | 0.01675201 |\n",
       "| 1990 | M | Daniel      | 33815 | 0.01571943 |\n",
       "| 1990 | M | David       | 33742 | 0.01568549 |\n",
       "| 1990 | M | Andrew      | 33657 | 0.01564598 |\n",
       "| 1990 | M | James       | 32347 | 0.01503700 |\n",
       "| 1990 | M | Justin      | 30638 | 0.01424255 |\n",
       "| 1990 | M | Joseph      | 30127 | 0.01400500 |\n",
       "| 1990 | M | Ryan        | 29248 | 0.01359639 |\n",
       "| 1990 | M | John        | 29073 | 0.01351503 |\n",
       "| 1990 | M | Robert      | 28871 | 0.01342113 |\n",
       "| 1990 | M | Nicholas    | 27900 | 0.01296975 |\n",
       "| 1990 | F | Samantha    | 25866 | 0.01259322 |\n",
       "| 1990 | F | Sarah       | 25816 | 0.01256888 |\n",
       "| 1990 | M | Anthony     | 25075 | 0.01165650 |\n",
       "| 1990 | M | William     | 24892 | 0.01157143 |\n",
       "| 1990 | F | Stephanie   | 24861 | 0.01210392 |\n",
       "| 1990 | M | Jonathan    | 24074 | 0.01119117 |\n",
       "| 1990 | M | Kyle        | 22700 | 0.01055245 |\n",
       "| 1990 | F | Jennifer    | 22226 | 0.01082104 |\n",
       "| 1990 | M | Brandon     | 22159 | 0.01030095 |\n",
       "| 1990 | M | Jacob       | 22010 | 0.01023169 |\n",
       "| 1990 | F | Elizabeth   | 20744 | 0.01009951 |\n",
       "| 1990 | M | Tyler       | 20634 | 0.00959203 |\n",
       "| ⋮ | ⋮ | ⋮ | ⋮ | ⋮ |\n",
       "| 1990 | M | Yarden    | 5 | 2.32e-06 |\n",
       "| 1990 | M | Yardley   | 5 | 2.32e-06 |\n",
       "| 1990 | M | Yeshayahu | 5 | 2.32e-06 |\n",
       "| 1990 | M | Yiannis   | 5 | 2.32e-06 |\n",
       "| 1990 | M | Yishai    | 5 | 2.32e-06 |\n",
       "| 1990 | M | Yitzhak   | 5 | 2.32e-06 |\n",
       "| 1990 | M | Yochanan  | 5 | 2.32e-06 |\n",
       "| 1990 | M | Yoon      | 5 | 2.32e-06 |\n",
       "| 1990 | M | Yoshiki   | 5 | 2.32e-06 |\n",
       "| 1990 | M | Yuya      | 5 | 2.32e-06 |\n",
       "| 1990 | M | Yvette    | 5 | 2.32e-06 |\n",
       "| 1990 | M | Yvonne    | 5 | 2.32e-06 |\n",
       "| 1990 | M | Zaccaria  | 5 | 2.32e-06 |\n",
       "| 1990 | M | Zacery    | 5 | 2.32e-06 |\n",
       "| 1990 | M | Zachaery  | 5 | 2.32e-06 |\n",
       "| 1990 | M | Zafir     | 5 | 2.32e-06 |\n",
       "| 1990 | M | Zaher     | 5 | 2.32e-06 |\n",
       "| 1990 | M | Zahid     | 5 | 2.32e-06 |\n",
       "| 1990 | M | Zakir     | 5 | 2.32e-06 |\n",
       "| 1990 | M | Zamar     | 5 | 2.32e-06 |\n",
       "| 1990 | M | Zan       | 5 | 2.32e-06 |\n",
       "| 1990 | M | Zander    | 5 | 2.32e-06 |\n",
       "| 1990 | M | Zedekiah  | 5 | 2.32e-06 |\n",
       "| 1990 | M | Zephan    | 5 | 2.32e-06 |\n",
       "| 1990 | M | Zerick    | 5 | 2.32e-06 |\n",
       "| 1990 | M | Zeus      | 5 | 2.32e-06 |\n",
       "| 1990 | M | Ziyad     | 5 | 2.32e-06 |\n",
       "| 1990 | M | Zoilo     | 5 | 2.32e-06 |\n",
       "| 1990 | M | Zoran     | 5 | 2.32e-06 |\n",
       "| 1990 | M | Zvi       | 5 | 2.32e-06 |\n",
       "\n"
      ],
      "text/plain": [
       "      year sex name        number prop      \n",
       "1     1990 M   Michael     65282  0.03034735\n",
       "2     1990 M   Christopher 52332  0.02432734\n",
       "3     1990 F   Jessica     46475  0.02262700\n",
       "4     1990 F   Ashley      45558  0.02218055\n",
       "5     1990 M   Matthew     44800  0.02082597\n",
       "6     1990 M   Joshua      43216  0.02008963\n",
       "7     1990 F   Brittany    36538  0.01778903\n",
       "8     1990 F   Amanda      34408  0.01675201\n",
       "9     1990 M   Daniel      33815  0.01571943\n",
       "10    1990 M   David       33742  0.01568549\n",
       "11    1990 M   Andrew      33657  0.01564598\n",
       "12    1990 M   James       32347  0.01503700\n",
       "13    1990 M   Justin      30638  0.01424255\n",
       "14    1990 M   Joseph      30127  0.01400500\n",
       "15    1990 M   Ryan        29248  0.01359639\n",
       "16    1990 M   John        29073  0.01351503\n",
       "17    1990 M   Robert      28871  0.01342113\n",
       "18    1990 M   Nicholas    27900  0.01296975\n",
       "19    1990 F   Samantha    25866  0.01259322\n",
       "20    1990 F   Sarah       25816  0.01256888\n",
       "21    1990 M   Anthony     25075  0.01165650\n",
       "22    1990 M   William     24892  0.01157143\n",
       "23    1990 F   Stephanie   24861  0.01210392\n",
       "24    1990 M   Jonathan    24074  0.01119117\n",
       "25    1990 M   Kyle        22700  0.01055245\n",
       "26    1990 F   Jennifer    22226  0.01082104\n",
       "27    1990 M   Brandon     22159  0.01030095\n",
       "28    1990 M   Jacob       22010  0.01023169\n",
       "29    1990 F   Elizabeth   20744  0.01009951\n",
       "30    1990 M   Tyler       20634  0.00959203\n",
       "⋮     ⋮    ⋮   ⋮           ⋮      ⋮         \n",
       "24690 1990 M   Yarden      5      2.32e-06  \n",
       "24691 1990 M   Yardley     5      2.32e-06  \n",
       "24692 1990 M   Yeshayahu   5      2.32e-06  \n",
       "24693 1990 M   Yiannis     5      2.32e-06  \n",
       "24694 1990 M   Yishai      5      2.32e-06  \n",
       "24695 1990 M   Yitzhak     5      2.32e-06  \n",
       "24696 1990 M   Yochanan    5      2.32e-06  \n",
       "24697 1990 M   Yoon        5      2.32e-06  \n",
       "24698 1990 M   Yoshiki     5      2.32e-06  \n",
       "24699 1990 M   Yuya        5      2.32e-06  \n",
       "24700 1990 M   Yvette      5      2.32e-06  \n",
       "24701 1990 M   Yvonne      5      2.32e-06  \n",
       "24702 1990 M   Zaccaria    5      2.32e-06  \n",
       "24703 1990 M   Zacery      5      2.32e-06  \n",
       "24704 1990 M   Zachaery    5      2.32e-06  \n",
       "24705 1990 M   Zafir       5      2.32e-06  \n",
       "24706 1990 M   Zaher       5      2.32e-06  \n",
       "24707 1990 M   Zahid       5      2.32e-06  \n",
       "24708 1990 M   Zakir       5      2.32e-06  \n",
       "24709 1990 M   Zamar       5      2.32e-06  \n",
       "24710 1990 M   Zan         5      2.32e-06  \n",
       "24711 1990 M   Zander      5      2.32e-06  \n",
       "24712 1990 M   Zedekiah    5      2.32e-06  \n",
       "24713 1990 M   Zephan      5      2.32e-06  \n",
       "24714 1990 M   Zerick      5      2.32e-06  \n",
       "24715 1990 M   Zeus        5      2.32e-06  \n",
       "24716 1990 M   Ziyad       5      2.32e-06  \n",
       "24717 1990 M   Zoilo       5      2.32e-06  \n",
       "24718 1990 M   Zoran       5      2.32e-06  \n",
       "24719 1990 M   Zvi         5      2.32e-06  "
      ]
     },
     "metadata": {},
     "output_type": "display_data"
    }
   ],
   "source": [
    "babynames %>%\n",
    "  # Filter for the year 1990\n",
    "  filter(year == 1990) %>%\n",
    "  # Sort the number column in descending order \n",
    "  arrange(desc(number))"
   ]
  },
  {
   "cell_type": "markdown",
   "metadata": {},
   "source": [
    "### `02-Using top_n with babynames`\n",
    "- Use `group_by()` and `top_n()` to find the most common name for US babies in each year."
   ]
  },
  {
   "cell_type": "code",
   "execution_count": null,
   "metadata": {
    "vscode": {
     "languageId": "r"
    }
   },
   "outputs": [],
   "source": []
  }
 ],
 "metadata": {
  "kernelspec": {
   "display_name": "R",
   "language": "R",
   "name": "ir"
  },
  "language_info": {
   "codemirror_mode": "r",
   "file_extension": ".r",
   "mimetype": "text/x-r-source",
   "name": "R",
   "pygments_lexer": "r",
   "version": "4.2.0"
  },
  "orig_nbformat": 4
 },
 "nbformat": 4,
 "nbformat_minor": 2
}
